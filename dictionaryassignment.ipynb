{
  "nbformat": 4,
  "nbformat_minor": 0,
  "metadata": {
    "colab": {
      "provenance": [],
      "authorship_tag": "ABX9TyOdZvspyLSNxWfVBZss3ScO",
      "include_colab_link": true
    },
    "kernelspec": {
      "name": "python3",
      "display_name": "Python 3"
    },
    "language_info": {
      "name": "python"
    }
  },
  "cells": [
    {
      "cell_type": "markdown",
      "metadata": {
        "id": "view-in-github",
        "colab_type": "text"
      },
      "source": [
        "<a href=\"https://colab.research.google.com/github/JavariaAmber/python-project/blob/main/dictionaryassignment.ipynb\" target=\"_parent\"><img src=\"https://colab.research.google.com/assets/colab-badge.svg\" alt=\"Open In Colab\"/></a>"
      ]
    },
    {
      "cell_type": "code",
      "execution_count": null,
      "metadata": {
        "colab": {
          "base_uri": "https://localhost:8080/"
        },
        "id": "Mi1xObTYpf6u",
        "outputId": "e75db63e-72a6-4a1d-b3f3-c52dd4b80817"
      },
      "outputs": [
        {
          "output_type": "stream",
          "name": "stdout",
          "text": [
            "The price of an apple is: 120\n"
          ]
        }
      ],
      "source": [
        "# Creating a dictionary of fruits with their prices\n",
        "fruits = {\n",
        "    \"apple\": 120,\n",
        "    \"banana\": 60,\n",
        "    \"mango\": 150\n",
        "}\n",
        "\n",
        "# Printing the price of one fruit\n",
        "print(\"The price of an apple is:\", fruits[\"apple\"])"
      ]
    },
    {
      "cell_type": "code",
      "source": [
        "# Creating a dictionary of 3 students with their marks\n",
        "students = {\n",
        "    \"Ali\": 85,\n",
        "    \"Sara\": 92,\n",
        "    \"Ahmed\": 78\n",
        "}\n",
        "\n",
        "# Printing all the keys (student names)\n",
        "print(\"Student Names:\")\n",
        "for name in students.keys():\n",
        "    print(name)"
      ],
      "metadata": {
        "id": "yBi1iFc9qWcM"
      },
      "execution_count": null,
      "outputs": []
    },
    {
      "cell_type": "code",
      "source": [
        "# Dictionary of countries and their capitals\n",
        "countries = {\n",
        "    \"Pakistan\": \"Islamabad\",\n",
        "    \"India\": \"New Delhi\",\n",
        "    \"China\": \"Beijing\",\n",
        "    \"Japan\": \"Tokyo\",\n",
        "    \"Canada\": \"Ottawa\"\n",
        "}\n",
        "\n",
        "# Asking user to input a country name\n",
        "country = input(\"Enter the name of a country: \")\n",
        "\n",
        "# Checking and printing the capital\n",
        "if country in countries:\n",
        "    print(\"The capital of\", country, \"is\", countries[country])\n",
        "else:\n",
        "    print(\"Sorry, this country is not in the dictionary.\")"
      ],
      "metadata": {
        "colab": {
          "base_uri": "https://localhost:8080/"
        },
        "id": "_l5__pvTqYGy",
        "outputId": "033b3c9b-7677-4887-a99f-10dab7d0a79d"
      },
      "execution_count": null,
      "outputs": [
        {
          "output_type": "stream",
          "name": "stdout",
          "text": [
            "Enter the name of a country: Japan\n",
            "The capital of Japan is Tokyo\n"
          ]
        }
      ]
    },
    {
      "cell_type": "code",
      "source": [
        "# Creating a dictionary with numbers as keys and their squares as values\n",
        "squares_dict = {\n",
        "    1: 1**2,\n",
        "    2: 2**2,\n",
        "    3: 3**2,\n",
        "    4: 4**2,\n",
        "    5: 5**2\n",
        "}\n",
        "\n",
        "print(squares_dict)"
      ],
      "metadata": {
        "colab": {
          "base_uri": "https://localhost:8080/"
        },
        "id": "zTx8ty3Iq1nn",
        "outputId": "c674c3d6-1e1c-4b81-bffc-d2728734d602"
      },
      "execution_count": null,
      "outputs": [
        {
          "output_type": "stream",
          "name": "stdout",
          "text": [
            "{1: 1, 2: 4, 3: 9, 4: 16, 5: 25}\n"
          ]
        }
      ]
    },
    {
      "cell_type": "code",
      "source": [
        "# creating a dictionary of a person\n",
        "person = {\n",
        "    \"name\": \"Ali\",\n",
        "    \"age\": 21,\n",
        "    \"city\": \"Lahore\"\n",
        "}\n",
        "\n",
        "# changing the city\n",
        "person[\"city\"] = \"Islamabad\"\n",
        "\n",
        "# printing the updated dictionary\n",
        "print(\"Updated dictionary:\", person)"
      ],
      "metadata": {
        "colab": {
          "base_uri": "https://localhost:8080/"
        },
        "id": "Kr3Nm73BrCLo",
        "outputId": "76973d32-1d82-434f-cb14-6a723a131bce"
      },
      "execution_count": null,
      "outputs": [
        {
          "output_type": "stream",
          "name": "stdout",
          "text": [
            "Updated dictionary: {'name': 'Ali', 'age': 21, 'city': 'Islamabad'}\n"
          ]
        }
      ]
    },
    {
      "cell_type": "code",
      "source": [
        "# Dictionary of items available in a store with their quantities\n",
        "store_items = {\n",
        "    \"Apples\": 50,\n",
        "    \"Bananas\": 30,\n",
        "    \"Milk\": 20,\n",
        "    \"Bread\": 15\n",
        "}\n",
        "\n",
        "# Adding a new item to the dictionary\n",
        "store_items[\"Eggs\"] = 40\n",
        "\n",
        "# Printing the updated dictionary\n",
        "print(\"Updated Store Items:\", store_items)"
      ],
      "metadata": {
        "colab": {
          "base_uri": "https://localhost:8080/"
        },
        "id": "pOU-bj4OrVqB",
        "outputId": "a4419c2c-8e2a-4287-ae5d-b53604366ab3"
      },
      "execution_count": null,
      "outputs": [
        {
          "output_type": "stream",
          "name": "stdout",
          "text": [
            "Updated Store Items: {'Apples': 50, 'Bananas': 30, 'Milk': 20, 'Bread': 15, 'Eggs': 40}\n"
          ]
        }
      ]
    },
    {
      "cell_type": "code",
      "source": [
        "# Creating a dictionary of students and their marks\n",
        "student_marks = {\n",
        "    \"Ali\": 85,\n",
        "    \"Sara\": 92,\n",
        "    \"Usman\": 78,\n",
        "    \"Hina\": 95,\n",
        "    \"Ahmed\": 88\n",
        "}\n",
        "\n",
        "# Finding the student with the highest marks\n",
        "highest_student = max(student_marks, key=student_marks.get)\n",
        "highest_marks = student_marks[highest_student]\n",
        "\n",
        "# Printing the result\n",
        "print(\"The student with the highest marks is:\", highest_student, \"with\", highest_marks, \"marks.\")"
      ],
      "metadata": {
        "colab": {
          "base_uri": "https://localhost:8080/"
        },
        "id": "X_PZsguwrheD",
        "outputId": "0f93ace3-5581-4721-d611-03d8de55e42d"
      },
      "execution_count": null,
      "outputs": [
        {
          "output_type": "stream",
          "name": "stdout",
          "text": [
            "The student with the highest marks is: Hina with 95 marks.\n"
          ]
        }
      ]
    },
    {
      "cell_type": "code",
      "source": [
        "# Nested dictionary of students\n",
        "students = {\n",
        "    \"Ali\": {\"age\": 20, \"grade\": \"A\"},\n",
        "    \"Sara\": {\"age\": 22, \"grade\": \"B\"}\n",
        "}\n",
        "\n",
        "# Printing only the grades of all students\n",
        "for name, info in students.items():\n",
        "    print(f\"{name}'s grade is: {info['grade']}\")"
      ],
      "metadata": {
        "colab": {
          "base_uri": "https://localhost:8080/"
        },
        "id": "3-Jfvi0psz4D",
        "outputId": "3c4f2698-b5f6-4acc-bf9d-f443dbbe0111"
      },
      "execution_count": null,
      "outputs": [
        {
          "output_type": "stream",
          "name": "stdout",
          "text": [
            "Ali's grade is: A\n",
            "Sara's grade is: B\n"
          ]
        }
      ]
    }
  ]
}