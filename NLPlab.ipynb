{
  "nbformat": 4,
  "nbformat_minor": 0,
  "metadata": {
    "colab": {
      "provenance": []
    },
    "kernelspec": {
      "name": "python3",
      "display_name": "Python 3"
    },
    "language_info": {
      "name": "python"
    }
  },
  "cells": [
    {
      "cell_type": "code",
      "execution_count": null,
      "metadata": {
        "colab": {
          "base_uri": "https://localhost:8080/"
        },
        "id": "4P2z-VGWHfvk",
        "outputId": "f5ea3457-3ef3-4041-ad3b-5f5b3ec67c04"
      },
      "outputs": [
        {
          "output_type": "stream",
          "name": "stdout",
          "text": [
            "Mounted at /content/drive\n"
          ]
        }
      ],
      "source": [
        "# Read CSV file stored in Google Drive\n",
        "from google.colab import drive # Import 'drive' module from the 'google.colab' library\n",
        "drive.mount('/content/drive') # This mounts your Google Drive into the Colab virtual environment."
      ]
    },
    {
      "cell_type": "code",
      "source": [
        "import pandas as pd\n",
        "\n",
        "file_path = '/content/drive/MyDrive/reuters.csv'\n",
        "df = pd.read_csv(file_path)\n",
        "\n",
        "print(df.head())"
      ],
      "metadata": {
        "colab": {
          "base_uri": "https://localhost:8080/"
        },
        "id": "VIOU4JsuJv-1",
        "outputId": "bfd82bac-4c32-4649-c800-0b49a217b027"
      },
      "execution_count": null,
      "outputs": [
        {
          "output_type": "stream",
          "name": "stdout",
          "text": [
            "                                                text  \\\n",
            "0  ASIAN EXPORTERS FEAR DAMAGE FROM U.S.-JAPAN RI...   \n",
            "1  CHINA DAILY SAYS VERMIN EAT 7-12 PCT GRAIN STO...   \n",
            "2  JAPAN TO REVISE LONG-TERM ENERGY DEMAND DOWNWA...   \n",
            "3  THAI TRADE DEFICIT WIDENS IN FIRST QUARTER\\n  ...   \n",
            "4  INDONESIA SEES CPO PRICE RISING SHARPLY\\n  Ind...   \n",
            "\n",
            "                                     categories  \n",
            "0                                         trade  \n",
            "1                                         grain  \n",
            "2                                crude, nat-gas  \n",
            "3  corn, grain, rice, rubber, sugar, tin, trade  \n",
            "4                             palm-oil, veg-oil  \n"
          ]
        }
      ]
    },
    {
      "cell_type": "code",
      "source": [
        "import nltk\n",
        "from nltk.corpus import reuters\n",
        "from nltk.corpus import stopwords\n",
        "from nltk.stem import WordNetLemmatizer\n",
        "from sklearn.feature_extraction.text import TfidfVectorizer\n",
        "from sklearn.naive_bayes import MultinomialNB\n",
        "from sklearn.metrics import accuracy_score, classification_report\n",
        "from sklearn.model_selection import train_test_split\n",
        "\n",
        "# Download necessary datasets\n",
        "nltk.download('reuters')\n",
        "nltk.download('punkt')\n",
        "nltk.download('wordnet')\n",
        "nltk.download('stopwords')\n",
        "# Get all document IDs\n",
        "docs = reuters.fileids()\n",
        "\n",
        "# Split into train and test sets (as predefined by Reuters)\n",
        "train_docs = [doc for doc in docs if doc.startswith(\"training/\")]\n",
        "test_docs = [doc for doc in docs if doc.startswith(\"test/\")]\n",
        "lemmatizer = WordNetLemmatizer()\n",
        "stop_words = set(stopwords.words(\"english\"))\n",
        "\n",
        "def preprocess(doc_id):\n",
        "    words = [w.lower() for w in reuters.words(doc_id) if w.isalpha()]\n",
        "    words = [lemmatizer.lemmatize(w) for w in words if w not in stop_words]\n",
        "    return ' '.join(words)\n",
        "\n",
        "train_texts = [preprocess(doc) for doc in train_docs]\n",
        "test_texts = [preprocess(doc) for doc in test_docs]\n",
        "\n",
        "train_labels = [reuters.categories(doc)[0] if reuters.categories(doc) else 'unknown' for doc in train_docs]\n",
        "test_labels = [reuters.categories(doc)[0] if reuters.categories(doc) else 'unknown' for doc in test_docs]\n",
        "vectorizer = TfidfVectorizer(max_features=5000)\n",
        "X_train = vectorizer.fit_transform(train_texts)\n",
        "X_test = vectorizer.transform(test_texts)\n",
        "model = MultinomialNB()\n",
        "model.fit(X_train, train_labels)\n",
        "y_pred = model.predict(X_test)\n",
        "\n",
        "print(\"Accuracy:\", accuracy_score(test_labels, y_pred))\n",
        "print(\"\\nClassification Report:\\n\", classification_report(test_labels, y_pred))\n",
        "\n",
        "\n"
      ],
      "metadata": {
        "colab": {
          "base_uri": "https://localhost:8080/"
        },
        "id": "-Fgx5mM-MVVs",
        "outputId": "d344b6dc-0b7d-43a2-910d-84157727e3a4"
      },
      "execution_count": null,
      "outputs": [
        {
          "output_type": "stream",
          "name": "stderr",
          "text": [
            "[nltk_data] Downloading package reuters to /root/nltk_data...\n",
            "[nltk_data] Downloading package punkt to /root/nltk_data...\n",
            "[nltk_data]   Unzipping tokenizers/punkt.zip.\n",
            "[nltk_data] Downloading package wordnet to /root/nltk_data...\n",
            "[nltk_data] Downloading package stopwords to /root/nltk_data...\n",
            "[nltk_data]   Unzipping corpora/stopwords.zip.\n"
          ]
        },
        {
          "output_type": "stream",
          "name": "stdout",
          "text": [
            "Accuracy: 0.7654852600198742\n",
            "\n",
            "Classification Report:\n",
            "                  precision    recall  f1-score   support\n",
            "\n",
            "            acq       0.79      0.97      0.87       719\n",
            "           alum       0.00      0.00      0.00        22\n",
            "         barley       0.00      0.00      0.00        14\n",
            "            bop       0.00      0.00      0.00        30\n",
            "        carcass       0.00      0.00      0.00        17\n",
            "     castor-oil       0.00      0.00      0.00         1\n",
            "          cocoa       1.00      0.35      0.52        17\n",
            "        coconut       0.00      0.00      0.00         2\n",
            "    coconut-oil       0.00      0.00      0.00         2\n",
            "         coffee       1.00      0.72      0.84        25\n",
            "         copper       1.00      0.07      0.12        15\n",
            "           corn       0.63      0.54      0.58        48\n",
            "         cotton       0.00      0.00      0.00        14\n",
            "            cpi       1.00      0.12      0.22        24\n",
            "            cpu       0.00      0.00      0.00         1\n",
            "          crude       0.67      0.88      0.76       182\n",
            "            dfl       0.00      0.00      0.00         1\n",
            "            dlr       0.93      0.30      0.46        43\n",
            "            dmk       0.00      0.00      0.00         1\n",
            "           earn       0.86      0.99      0.92      1083\n",
            "           fuel       0.00      0.00      0.00         9\n",
            "            gas       0.00      0.00      0.00         9\n",
            "            gnp       0.20      0.05      0.08        19\n",
            "           gold       0.00      0.00      0.00        26\n",
            "          grain       0.53      0.81      0.64        77\n",
            "      groundnut       0.00      0.00      0.00         3\n",
            "           heat       0.00      0.00      0.00         4\n",
            "            hog       0.00      0.00      0.00         4\n",
            "        housing       0.00      0.00      0.00         3\n",
            "         income       0.00      0.00      0.00         5\n",
            "    instal-debt       0.00      0.00      0.00         1\n",
            "       interest       0.70      0.82      0.76       124\n",
            "            ipi       0.00      0.00      0.00        11\n",
            "     iron-steel       0.00      0.00      0.00        14\n",
            "            jet       0.00      0.00      0.00         1\n",
            "           jobs       0.00      0.00      0.00        13\n",
            "       l-cattle       0.00      0.00      0.00         2\n",
            "           lead       0.00      0.00      0.00        12\n",
            "            lei       0.00      0.00      0.00         3\n",
            "      livestock       0.00      0.00      0.00         6\n",
            "         lumber       0.00      0.00      0.00         5\n",
            "      meal-feed       0.00      0.00      0.00         6\n",
            "       money-fx       0.53      0.75      0.62        96\n",
            "   money-supply       1.00      0.10      0.19        29\n",
            "        naphtha       0.00      0.00      0.00         1\n",
            "        nat-gas       0.00      0.00      0.00        13\n",
            "         nickel       0.00      0.00      0.00         1\n",
            "        oilseed       0.00      0.00      0.00        13\n",
            "         orange       0.00      0.00      0.00         9\n",
            "      palladium       0.00      0.00      0.00         1\n",
            "       palm-oil       0.00      0.00      0.00         4\n",
            "       pet-chem       0.00      0.00      0.00         6\n",
            "       platinum       0.00      0.00      0.00         3\n",
            "         potato       0.00      0.00      0.00         3\n",
            "        propane       0.00      0.00      0.00         2\n",
            "       rape-oil       0.00      0.00      0.00         1\n",
            "       reserves       0.00      0.00      0.00        14\n",
            "         retail       0.00      0.00      0.00         1\n",
            "           rice       0.00      0.00      0.00         1\n",
            "         rubber       0.00      0.00      0.00         9\n",
            "           ship       0.62      0.13      0.21        39\n",
            "        soy-oil       0.00      0.00      0.00         2\n",
            "        soybean       0.00      0.00      0.00         2\n",
            "strategic-metal       0.00      0.00      0.00         6\n",
            "          sugar       0.86      0.48      0.62        25\n",
            "            tea       0.00      0.00      0.00         3\n",
            "            tin       0.00      0.00      0.00        10\n",
            "          trade       0.42      0.78      0.55        76\n",
            "        veg-oil       0.00      0.00      0.00        11\n",
            "            wpi       0.00      0.00      0.00         9\n",
            "            yen       0.00      0.00      0.00         6\n",
            "           zinc       0.00      0.00      0.00         5\n",
            "\n",
            "       accuracy                           0.77      3019\n",
            "      macro avg       0.18      0.12      0.12      3019\n",
            "   weighted avg       0.68      0.77      0.70      3019\n",
            "\n"
          ]
        },
        {
          "output_type": "stream",
          "name": "stderr",
          "text": [
            "/usr/local/lib/python3.12/dist-packages/sklearn/metrics/_classification.py:1565: UndefinedMetricWarning: Precision is ill-defined and being set to 0.0 in labels with no predicted samples. Use `zero_division` parameter to control this behavior.\n",
            "  _warn_prf(average, modifier, f\"{metric.capitalize()} is\", len(result))\n",
            "/usr/local/lib/python3.12/dist-packages/sklearn/metrics/_classification.py:1565: UndefinedMetricWarning: Precision is ill-defined and being set to 0.0 in labels with no predicted samples. Use `zero_division` parameter to control this behavior.\n",
            "  _warn_prf(average, modifier, f\"{metric.capitalize()} is\", len(result))\n",
            "/usr/local/lib/python3.12/dist-packages/sklearn/metrics/_classification.py:1565: UndefinedMetricWarning: Precision is ill-defined and being set to 0.0 in labels with no predicted samples. Use `zero_division` parameter to control this behavior.\n",
            "  _warn_prf(average, modifier, f\"{metric.capitalize()} is\", len(result))\n"
          ]
        }
      ]
    },
    {
      "cell_type": "code",
      "source": [],
      "metadata": {
        "id": "ERHBykUhJzkJ"
      },
      "execution_count": null,
      "outputs": []
    }
  ]
}