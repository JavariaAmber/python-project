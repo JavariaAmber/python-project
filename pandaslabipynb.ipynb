{
  "cells": [
    {
      "cell_type": "markdown",
      "metadata": {
        "id": "view-in-github",
        "colab_type": "text"
      },
      "source": [
        "<a href=\"https://colab.research.google.com/github/JavariaAmber/python-project/blob/main/pandaslabipynb.ipynb\" target=\"_parent\"><img src=\"https://colab.research.google.com/assets/colab-badge.svg\" alt=\"Open In Colab\"/></a>"
      ]
    },
    {
      "cell_type": "code",
      "execution_count": null,
      "metadata": {
        "colab": {
          "base_uri": "https://localhost:8080/"
        },
        "id": "yz8BgzEfNS0r",
        "outputId": "30cdb3b0-8b98-4a33-eff4-1e19821dffd2"
      },
      "outputs": [
        {
          "output_type": "stream",
          "name": "stdout",
          "text": [
            "Mounted at /content/drive\n"
          ]
        }
      ],
      "source": [
        "# Read CSV file stored in Google Drive\n",
        "from google.colab import drive # Import 'drive' module from the 'google.colab' library\n",
        "drive.mount('/content/drive') # This mounts your Google Drive into the Colab virtual environment.\n"
      ]
    },
    {
      "cell_type": "code",
      "source": [
        "import pandas as pd\n",
        "\n",
        "file_path = '/content/drive/MyDrive/Titanicdataset.csv.csv'\n",
        "df = pd.read_csv(file_path)\n",
        "\n",
        "print(df.head())"
      ],
      "metadata": {
        "colab": {
          "base_uri": "https://localhost:8080/"
        },
        "id": "uy6UybsNkav-",
        "outputId": "3286c5bb-271e-444d-d71c-58e1c386eff6"
      },
      "execution_count": null,
      "outputs": [
        {
          "output_type": "stream",
          "name": "stdout",
          "text": [
            "   PassengerId  Survived  Pclass  \\\n",
            "0          892         0       3   \n",
            "1          893         1       3   \n",
            "2          894         0       2   \n",
            "3          895         0       3   \n",
            "4          896         1       3   \n",
            "\n",
            "                                           Name     Sex   Age  SibSp  Parch  \\\n",
            "0                              Kelly, Mr. James    male  34.5      0      0   \n",
            "1              Wilkes, Mrs. James (Ellen Needs)  female  47.0      1      0   \n",
            "2                     Myles, Mr. Thomas Francis    male  62.0      0      0   \n",
            "3                              Wirz, Mr. Albert    male  27.0      0      0   \n",
            "4  Hirvonen, Mrs. Alexander (Helga E Lindqvist)  female  22.0      1      1   \n",
            "\n",
            "    Ticket     Fare Cabin Embarked predicted embarked  \n",
            "0   330911   7.8292   NaN        Q                  Q  \n",
            "1   363272   7.0000   NaN        S                  S  \n",
            "2   240276   9.6875   NaN        Q                  Q  \n",
            "3   315154   8.6625   NaN        S                  S  \n",
            "4  3101298  12.2875   NaN        S                  S  \n"
          ]
        }
      ]
    },
    {
      "cell_type": "code",
      "source": [
        "import pandas as pd\n",
        "\n",
        "file_path = '/content/drive/MyDrive/Loan.csv'\n",
        "df = pd.read_csv(file_path)\n",
        "\n",
        "print(df.head())"
      ],
      "metadata": {
        "colab": {
          "base_uri": "https://localhost:8080/"
        },
        "id": "WfM1-wWEkzRb",
        "outputId": "5d577a72-e9c3-475f-d3d7-97d94d49f27d"
      },
      "execution_count": null,
      "outputs": [
        {
          "output_type": "stream",
          "name": "stdout",
          "text": [
            "    Loan_ID Gender Married Dependents     Education Self_Employed  \\\n",
            "0  LP001002   Male      No          0      Graduate            No   \n",
            "1  LP001003   Male     Yes          1      Graduate            No   \n",
            "2  LP001005   Male     Yes          0      Graduate           Yes   \n",
            "3  LP001006   Male     Yes          0  Not Graduate            No   \n",
            "4  LP001008   Male      No          0      Graduate            No   \n",
            "\n",
            "   ApplicantIncome  CoapplicantIncome  LoanAmount  Loan_Amount_Term  \\\n",
            "0             5849                0.0         NaN             360.0   \n",
            "1             4583             1508.0       128.0             360.0   \n",
            "2             3000                0.0        66.0             360.0   \n",
            "3             2583             2358.0       120.0             360.0   \n",
            "4             6000                0.0       141.0             360.0   \n",
            "\n",
            "   Credit_History Property_Area Loan_Status  \n",
            "0             1.0         Urban           Y  \n",
            "1             1.0         Rural           N  \n",
            "2             1.0         Urban           Y  \n",
            "3             1.0         Urban           Y  \n",
            "4             1.0         Urban           Y  \n"
          ]
        }
      ]
    },
    {
      "cell_type": "code",
      "source": [
        "import pandas as pd\n",
        "\n",
        "file_path = '/content/drive/MyDrive/Titanicdataset.csv.csv'\n",
        "df = pd.read_csv(file_path)\n",
        "\n",
        "#Display the first 5 rows\n",
        "print(\"First 5 rows:\")\n",
        "print(df.head())"
      ],
      "metadata": {
        "colab": {
          "base_uri": "https://localhost:8080/"
        },
        "id": "lBbJr6ERlN5W",
        "outputId": "9416a11d-fa07-411f-e636-2d7a6f203705"
      },
      "execution_count": null,
      "outputs": [
        {
          "output_type": "stream",
          "name": "stdout",
          "text": [
            "First 5 rows:\n",
            "   PassengerId  Survived  Pclass  \\\n",
            "0          892         0       3   \n",
            "1          893         1       3   \n",
            "2          894         0       2   \n",
            "3          895         0       3   \n",
            "4          896         1       3   \n",
            "\n",
            "                                           Name     Sex   Age  SibSp  Parch  \\\n",
            "0                              Kelly, Mr. James    male  34.5      0      0   \n",
            "1              Wilkes, Mrs. James (Ellen Needs)  female  47.0      1      0   \n",
            "2                     Myles, Mr. Thomas Francis    male  62.0      0      0   \n",
            "3                              Wirz, Mr. Albert    male  27.0      0      0   \n",
            "4  Hirvonen, Mrs. Alexander (Helga E Lindqvist)  female  22.0      1      1   \n",
            "\n",
            "    Ticket     Fare Cabin Embarked predicted embarked  \n",
            "0   330911   7.8292   NaN        Q                  Q  \n",
            "1   363272   7.0000   NaN        S                  S  \n",
            "2   240276   9.6875   NaN        Q                  Q  \n",
            "3   315154   8.6625   NaN        S                  S  \n",
            "4  3101298  12.2875   NaN        S                  S  \n"
          ]
        }
      ]
    },
    {
      "cell_type": "code",
      "source": [
        "import pandas as pd\n",
        "\n",
        "file_path = '/content/drive/MyDrive/Titanicdataset.csv.csv'\n",
        "df = pd.read_csv(file_path)\n",
        "\n",
        "#Display the last 3 rows\n",
        "print(\"\\nLast 3 rows:\")\n",
        "print(df.tail(3))"
      ],
      "metadata": {
        "colab": {
          "base_uri": "https://localhost:8080/"
        },
        "id": "rYVqipeDnIgQ",
        "outputId": "aa42b1af-df41-4f94-c1fc-d2e35efc0665"
      },
      "execution_count": null,
      "outputs": [
        {
          "output_type": "stream",
          "name": "stdout",
          "text": [
            "\n",
            "Last 3 rows:\n",
            "     PassengerId  Survived  Pclass                          Name   Sex   Age  \\\n",
            "415         1307         0       3  Saether, Mr. Simon Sivertsen  male  38.5   \n",
            "416         1308         0       3           Ware, Mr. Frederick  male   NaN   \n",
            "417         1309         0       3      Peter, Master. Michael J  male   NaN   \n",
            "\n",
            "     SibSp  Parch              Ticket     Fare Cabin Embarked  \\\n",
            "415      0      0  SOTON/O.Q. 3101262   7.2500   NaN        S   \n",
            "416      0      0              359309   8.0500   NaN        S   \n",
            "417      1      1                2668  22.3583   NaN        C   \n",
            "\n",
            "    predicted embarked  \n",
            "415                NaN  \n",
            "416                NaN  \n",
            "417                NaN  \n"
          ]
        }
      ]
    },
    {
      "cell_type": "code",
      "source": [
        "import pandas as pd\n",
        "\n",
        "file_path = '/content/drive/MyDrive/Titanicdataset.csv.csv'\n",
        "df = pd.read_csv(file_path)\n",
        "\n",
        "#Show column names and data types\n",
        "print(\"\\nColumn names and data types:\")\n",
        "print(df.dtypes)"
      ],
      "metadata": {
        "colab": {
          "base_uri": "https://localhost:8080/"
        },
        "id": "3jx1qwDfnR4t",
        "outputId": "92c0f6f5-971d-45c8-eb9e-6291d9860a07"
      },
      "execution_count": null,
      "outputs": [
        {
          "output_type": "stream",
          "name": "stdout",
          "text": [
            "\n",
            "Column names and data types:\n",
            "PassengerId             int64\n",
            "Survived                int64\n",
            "Pclass                  int64\n",
            "Name                   object\n",
            "Sex                    object\n",
            "Age                   float64\n",
            "SibSp                   int64\n",
            "Parch                   int64\n",
            "Ticket                 object\n",
            "Fare                  float64\n",
            "Cabin                  object\n",
            "Embarked               object\n",
            "predicted embarked     object\n",
            "dtype: object\n"
          ]
        }
      ]
    },
    {
      "cell_type": "code",
      "source": [
        "import pandas as pd\n",
        "\n",
        "file_path = '/content/drive/MyDrive/Titanicdataset.csv.csv'\n",
        "df = pd.read_csv(file_path)\n",
        "\n",
        "#Count missing values in each column\n",
        "print(\"\\nMissing values in each column:\")\n",
        "print(df.isnull().sum())"
      ],
      "metadata": {
        "colab": {
          "base_uri": "https://localhost:8080/"
        },
        "id": "B4D13cLVn_ip",
        "outputId": "323c9f88-303f-4c59-edff-e1f6d0657489"
      },
      "execution_count": null,
      "outputs": [
        {
          "output_type": "stream",
          "name": "stdout",
          "text": [
            "\n",
            "Missing values in each column:\n",
            "PassengerId             0\n",
            "Survived                0\n",
            "Pclass                  0\n",
            "Name                    0\n",
            "Sex                     0\n",
            "Age                    86\n",
            "SibSp                   0\n",
            "Parch                   0\n",
            "Ticket                  0\n",
            "Fare                    1\n",
            "Cabin                 327\n",
            "Embarked                0\n",
            "predicted embarked    391\n",
            "dtype: int64\n"
          ]
        }
      ]
    },
    {
      "cell_type": "code",
      "source": [
        "import pandas as pd\n",
        "\n",
        "file_path = '/content/drive/MyDrive/Titanicdataset.csv.csv'\n",
        "df = pd.read_csv(file_path)\n",
        "\n",
        "#Get only the Name and Sex columns\n",
        "print(\"Name and Sex columns:\")\n",
        "print(df[[\"Name\", \"Sex\"]])"
      ],
      "metadata": {
        "colab": {
          "base_uri": "https://localhost:8080/"
        },
        "id": "44iYe5RkoSqn",
        "outputId": "0d1663a2-3a19-444f-9fd5-035f0377fc3b"
      },
      "execution_count": null,
      "outputs": [
        {
          "output_type": "stream",
          "name": "stdout",
          "text": [
            "Name and Sex columns:\n",
            "                                             Name     Sex\n",
            "0                                Kelly, Mr. James    male\n",
            "1                Wilkes, Mrs. James (Ellen Needs)  female\n",
            "2                       Myles, Mr. Thomas Francis    male\n",
            "3                                Wirz, Mr. Albert    male\n",
            "4    Hirvonen, Mrs. Alexander (Helga E Lindqvist)  female\n",
            "..                                            ...     ...\n",
            "413                            Spector, Mr. Woolf    male\n",
            "414                  Oliva y Ocana, Dona. Fermina  female\n",
            "415                  Saether, Mr. Simon Sivertsen    male\n",
            "416                           Ware, Mr. Frederick    male\n",
            "417                      Peter, Master. Michael J    male\n",
            "\n",
            "[418 rows x 2 columns]\n"
          ]
        }
      ]
    },
    {
      "cell_type": "code",
      "source": [
        "import pandas as pd\n",
        "\n",
        "file_path = '/content/drive/MyDrive/Titanicdataset.csv.csv'\n",
        "df = pd.read_csv(file_path)\n",
        "\n",
        "#Get the PassengerId, Name, and Fare columns of the first 10 rows\n",
        "print(\"\\nFirst 10 rows of PassengerId, Name, and Fare:\")\n",
        "print(df.loc[:9, [\"PassengerId\", \"Name\", \"Fare\"]])"
      ],
      "metadata": {
        "colab": {
          "base_uri": "https://localhost:8080/"
        },
        "id": "kcDeYwyBpA_Z",
        "outputId": "6866f8c2-e9d5-4f81-9daf-fbfe723c8e12"
      },
      "execution_count": null,
      "outputs": [
        {
          "output_type": "stream",
          "name": "stdout",
          "text": [
            "\n",
            "First 10 rows of PassengerId, Name, and Fare:\n",
            "   PassengerId                                          Name     Fare\n",
            "0          892                              Kelly, Mr. James   7.8292\n",
            "1          893              Wilkes, Mrs. James (Ellen Needs)   7.0000\n",
            "2          894                     Myles, Mr. Thomas Francis   9.6875\n",
            "3          895                              Wirz, Mr. Albert   8.6625\n",
            "4          896  Hirvonen, Mrs. Alexander (Helga E Lindqvist)  12.2875\n",
            "5          897                    Svensson, Mr. Johan Cervin   9.2250\n",
            "6          898                          Connolly, Miss. Kate   7.6292\n",
            "7          899                  Caldwell, Mr. Albert Francis  29.0000\n",
            "8          900     Abrahim, Mrs. Joseph (Sophie Halaut Easu)   7.2292\n",
            "9          901                       Davies, Mr. John Samuel  24.1500\n"
          ]
        }
      ]
    },
    {
      "cell_type": "code",
      "source": [
        "import pandas as pd\n",
        "\n",
        "file_path = '/content/drive/MyDrive/Titanicdataset.csv.csv'\n",
        "df = pd.read_csv(file_path)\n",
        "\n",
        "#Select all rows where Pclass = 1\n",
        "print(\"\\nRows where Pclass = 1:\")\n",
        "print(df[df[\"Pclass\"] == 1])"
      ],
      "metadata": {
        "colab": {
          "base_uri": "https://localhost:8080/"
        },
        "id": "QmaVgmd0pOY9",
        "outputId": "f7854267-323a-446a-efeb-5c3c65c19c30"
      },
      "execution_count": null,
      "outputs": [
        {
          "output_type": "stream",
          "name": "stdout",
          "text": [
            "\n",
            "Rows where Pclass = 1:\n",
            "     PassengerId  Survived  Pclass  \\\n",
            "11           903         0       1   \n",
            "12           904         1       1   \n",
            "14           906         1       1   \n",
            "20           912         0       1   \n",
            "22           914         1       1   \n",
            "..           ...       ...     ...   \n",
            "403         1295         0       1   \n",
            "404         1296         0       1   \n",
            "407         1299         0       1   \n",
            "411         1303         1       1   \n",
            "414         1306         1       1   \n",
            "\n",
            "                                                  Name     Sex   Age  SibSp  \\\n",
            "11                          Jones, Mr. Charles Cresson    male  46.0      0   \n",
            "12       Snyder, Mrs. John Pillsbury (Nelle Stevenson)  female  23.0      1   \n",
            "14   Chaffee, Mrs. Herbert Fuller (Carrie Constance...  female  47.0      1   \n",
            "20                              Rothschild, Mr. Martin    male  55.0      1   \n",
            "22                Flegenheim, Mrs. Alfred (Antoinette)  female   NaN      0   \n",
            "..                                                 ...     ...   ...    ...   \n",
            "403                             Carrau, Mr. Jose Pedro    male  17.0      0   \n",
            "404                       Frauenthal, Mr. Isaac Gerald    male  43.0      1   \n",
            "407                         Widener, Mr. George Dunton    male  50.0      1   \n",
            "411    Minahan, Mrs. William Edward (Lillian E Thorpe)  female  37.0      1   \n",
            "414                       Oliva y Ocana, Dona. Fermina  female  39.0      0   \n",
            "\n",
            "     Parch       Ticket      Fare Cabin Embarked predicted embarked  \n",
            "11       0          694   26.0000   NaN        S                  S  \n",
            "12       0        21228   82.2667   B45        S                  S  \n",
            "14       0  W.E.P. 5734   61.1750   E31        S                  S  \n",
            "20       0     PC 17603   59.4000   NaN        C                  C  \n",
            "22       0     PC 17598   31.6833   NaN        S                  S  \n",
            "..     ...          ...       ...   ...      ...                ...  \n",
            "403      0       113059   47.1000   NaN        S                NaN  \n",
            "404      0        17765   27.7208   D40        C                NaN  \n",
            "407      1       113503  211.5000   C80        C                NaN  \n",
            "411      0        19928   90.0000   C78        Q                NaN  \n",
            "414      0     PC 17758  108.9000  C105        C                NaN  \n",
            "\n",
            "[107 rows x 13 columns]\n"
          ]
        }
      ]
    },
    {
      "cell_type": "code",
      "source": [
        "import pandas as pd\n",
        "\n",
        "file_path = '/content/drive/MyDrive/Titanicdataset.csv.csv'\n",
        "df = pd.read_csv(file_path)\n",
        "\n",
        "#Select all rows where Sex = 'female' and Survived = 1\n",
        "print(\"\\nRows where female passengers survived:\")\n",
        "print(df[(df[\"Sex\"] == \"female\") & (df[\"Survived\"] == 1)])"
      ],
      "metadata": {
        "colab": {
          "base_uri": "https://localhost:8080/"
        },
        "id": "PlE4KE4kpY-k",
        "outputId": "44566c1f-86d0-4b0c-ac37-41afcff5e0c1"
      },
      "execution_count": null,
      "outputs": [
        {
          "output_type": "stream",
          "name": "stdout",
          "text": [
            "\n",
            "Rows where female passengers survived:\n",
            "     PassengerId  Survived  Pclass  \\\n",
            "1            893         1       3   \n",
            "4            896         1       3   \n",
            "6            898         1       3   \n",
            "8            900         1       3   \n",
            "12           904         1       1   \n",
            "..           ...       ...     ...   \n",
            "409         1301         1       3   \n",
            "410         1302         1       3   \n",
            "411         1303         1       1   \n",
            "412         1304         1       3   \n",
            "414         1306         1       1   \n",
            "\n",
            "                                                Name     Sex   Age  SibSp  \\\n",
            "1                   Wilkes, Mrs. James (Ellen Needs)  female  47.0      1   \n",
            "4       Hirvonen, Mrs. Alexander (Helga E Lindqvist)  female  22.0      1   \n",
            "6                               Connolly, Miss. Kate  female  30.0      0   \n",
            "8          Abrahim, Mrs. Joseph (Sophie Halaut Easu)  female  18.0      0   \n",
            "12     Snyder, Mrs. John Pillsbury (Nelle Stevenson)  female  23.0      1   \n",
            "..                                               ...     ...   ...    ...   \n",
            "409                        Peacock, Miss. Treasteall  female   3.0      1   \n",
            "410                           Naughton, Miss. Hannah  female   NaN      0   \n",
            "411  Minahan, Mrs. William Edward (Lillian E Thorpe)  female  37.0      1   \n",
            "412                   Henriksson, Miss. Jenny Lovisa  female  28.0      0   \n",
            "414                     Oliva y Ocana, Dona. Fermina  female  39.0      0   \n",
            "\n",
            "     Parch              Ticket      Fare Cabin Embarked predicted embarked  \n",
            "1        0              363272    7.0000   NaN        S                  S  \n",
            "4        1             3101298   12.2875   NaN        S                  S  \n",
            "6        0              330972    7.6292   NaN        Q                  Q  \n",
            "8        0                2657    7.2292   NaN        C                  C  \n",
            "12       0               21228   82.2667   B45        S                  S  \n",
            "..     ...                 ...       ...   ...      ...                ...  \n",
            "409      1  SOTON/O.Q. 3101315   13.7750   NaN        S                NaN  \n",
            "410      0              365237    7.7500   NaN        Q                NaN  \n",
            "411      0               19928   90.0000   C78        Q                NaN  \n",
            "412      0              347086    7.7750   NaN        S                NaN  \n",
            "414      0            PC 17758  108.9000  C105        C                NaN  \n",
            "\n",
            "[152 rows x 13 columns]\n"
          ]
        }
      ]
    },
    {
      "cell_type": "code",
      "source": [
        "import pandas as pd\n",
        "\n",
        "file_path = '/content/drive/MyDrive/Titanicdataset.csv.csv'\n",
        "df = pd.read_csv(file_path)\n",
        "\n",
        "#Select the Age of passengers whose Fare > 100\n",
        "print(\"\\nAge of passengers with Fare > 100:\")\n",
        "print(df.loc[df[\"Fare\"] > 100, \"Age\"])"
      ],
      "metadata": {
        "colab": {
          "base_uri": "https://localhost:8080/"
        },
        "id": "L4j7HM0DpjZH",
        "outputId": "9e511a6b-b87c-415f-f0ee-178dd0b515b3"
      },
      "execution_count": null,
      "outputs": [
        {
          "output_type": "stream",
          "name": "stdout",
          "text": [
            "\n",
            "Age of passengers with Fare > 100:\n",
            "24     48.0\n",
            "53     28.0\n",
            "59     36.0\n",
            "64     13.0\n",
            "69     60.0\n",
            "74     35.0\n",
            "75     32.5\n",
            "81     67.0\n",
            "114    63.0\n",
            "141    33.0\n",
            "142    61.0\n",
            "156    29.0\n",
            "184    27.0\n",
            "196     6.0\n",
            "202    47.0\n",
            "217    57.0\n",
            "218    50.0\n",
            "239    48.0\n",
            "242    45.0\n",
            "252    27.0\n",
            "272    26.0\n",
            "306    30.0\n",
            "314    55.0\n",
            "316    57.0\n",
            "324    39.0\n",
            "343    58.0\n",
            "371    31.0\n",
            "375    45.0\n",
            "400    30.0\n",
            "407    50.0\n",
            "414    39.0\n",
            "Name: Age, dtype: float64\n"
          ]
        }
      ]
    }
  ],
  "metadata": {
    "colab": {
      "provenance": [],
      "authorship_tag": "ABX9TyPj1Or8k0sEpGpT+7lPzCst",
      "include_colab_link": true
    },
    "kernelspec": {
      "display_name": "Python 3",
      "name": "python3"
    },
    "language_info": {
      "name": "python"
    }
  },
  "nbformat": 4,
  "nbformat_minor": 0
}