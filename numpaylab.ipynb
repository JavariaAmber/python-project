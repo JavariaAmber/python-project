{
  "nbformat": 4,
  "nbformat_minor": 0,
  "metadata": {
    "colab": {
      "provenance": []
    },
    "kernelspec": {
      "name": "python3",
      "display_name": "Python 3"
    },
    "language_info": {
      "name": "python"
    }
  },
  "cells": [
    {
      "cell_type": "code",
      "execution_count": null,
      "metadata": {
        "colab": {
          "base_uri": "https://localhost:8080/"
        },
        "id": "_hKXdVwcxCWh",
        "outputId": "a0c2471a-9fb1-4756-99c7-a1bad6e41b7d"
      },
      "outputs": [
        {
          "output_type": "stream",
          "name": "stdout",
          "text": [
            "NumPy Array: [1 2 3 4 5]\n",
            "Type: <class 'numpy.ndarray'>\n"
          ]
        }
      ],
      "source": [
        "import numpy as np   # Import NumPy with alias np\n",
        "\n",
        "#create NumPay array from Python list\n",
        "py_list= [1,2,3,4,5]\n",
        "arr = np.array(py_list)\n",
        "\n",
        "#Print the array\n",
        "print(\"NumPy Array:\", arr)\n",
        "\n",
        "#Print its type\n",
        "print(\"Type:\", type(arr))"
      ]
    },
    {
      "cell_type": "code",
      "source": [
        "import numpy as np   # importing numpy library\n",
        "\n",
        "# create a 1D array from 10 to 50 (excluding 50)\n",
        "arr = np.arange(10, 50)\n",
        "\n",
        "# print the array\n",
        "print(\"Array:\", arr)\n",
        "\n",
        "# print shape and size\n",
        "print(\"Shape of array:\", arr.shape)   # shape tells dimensions\n",
        "print(\"Size of array:\", arr.size)     # size tells total elements"
      ],
      "metadata": {
        "colab": {
          "base_uri": "https://localhost:8080/"
        },
        "id": "lhEUVavtruaN",
        "outputId": "a74bfd3a-9490-404c-fbcd-1c28722b5bd1"
      },
      "execution_count": null,
      "outputs": [
        {
          "output_type": "stream",
          "name": "stdout",
          "text": [
            "Array: [10 11 12 13 14 15 16 17 18 19 20 21 22 23 24 25 26 27 28 29 30 31 32 33\n",
            " 34 35 36 37 38 39 40 41 42 43 44 45 46 47 48 49]\n",
            "Shape of array: (40,)\n",
            "Size of array: 40\n"
          ]
        }
      ]
    },
    {
      "cell_type": "code",
      "source": [
        "import numpy as np   # import numpy\n",
        "\n",
        "# Create a 2D array (3 rows, 4 columns) filled with zeros\n",
        "arr = np.zeros((3, 4), dtype=int)\n",
        "\n",
        "print(\"Original Array (zeros):\")\n",
        "print(arr)\n",
        "\n",
        "# Replace all zeros with fives\n",
        "arr[:] = 5\n",
        "\n",
        "print(\"\\nUpdated Array (fives):\")\n",
        "print(arr)"
      ],
      "metadata": {
        "colab": {
          "base_uri": "https://localhost:8080/"
        },
        "id": "OY6itkP_uRYS",
        "outputId": "8b1c8c8b-a0cb-4e66-f4e2-49b358ed818e"
      },
      "execution_count": null,
      "outputs": [
        {
          "output_type": "stream",
          "name": "stdout",
          "text": [
            "Original Array (zeros):\n",
            "[[0 0 0 0]\n",
            " [0 0 0 0]\n",
            " [0 0 0 0]]\n",
            "\n",
            "Updated Array (fives):\n",
            "[[5 5 5 5]\n",
            " [5 5 5 5]\n",
            " [5 5 5 5]]\n"
          ]
        }
      ]
    },
    {
      "cell_type": "code",
      "source": [
        "import numpy as np\n",
        "\n",
        "# Generate a 1D array of 15 random integers between 1 and 100\n",
        "numbers = np.random.randint(1, 101, size=15)\n",
        "\n",
        "print(\"Random Numbers:\", numbers)\n",
        "\n",
        "# Find maximum, minimum, and mean\n",
        "max_val = numbers.max()\n",
        "min_val = numbers.min()\n",
        "mean_val = numbers.mean()\n",
        "\n",
        "print(\"Maximum Value:\", max_val)\n",
        "print(\"Minimum Value:\", min_val)\n",
        "print(\"Mean Value:\", mean_val)"
      ],
      "metadata": {
        "colab": {
          "base_uri": "https://localhost:8080/"
        },
        "id": "_5kt_tjZuUS2",
        "outputId": "b61e2dc4-a712-45f4-d858-b5261ee61011"
      },
      "execution_count": null,
      "outputs": [
        {
          "output_type": "stream",
          "name": "stdout",
          "text": [
            "Random Numbers: [64  3 42  9 54  4 76 90 87 85 45 72 43 65 57]\n",
            "Maximum Value: 90\n",
            "Minimum Value: 3\n",
            "Mean Value: 53.06666666666667\n"
          ]
        }
      ]
    },
    {
      "cell_type": "code",
      "source": [
        "import numpy as np\n",
        "\n",
        "# Create a NumPy array of numbers from 1 to 20\n",
        "arr = np.arange(1, 21)\n",
        "\n",
        "print(\"Original Array:\", arr)\n",
        "\n",
        "# Extract only even numbers using boolean indexing\n",
        "even_numbers = arr[arr % 2 == 0]\n",
        "print(\"Even Numbers:\", even_numbers)\n",
        "\n",
        "# Reverse the array using slicing\n",
        "reversed_arr = arr[::-1]\n",
        "print(\"Reversed Array:\", reversed_arr)"
      ],
      "metadata": {
        "colab": {
          "base_uri": "https://localhost:8080/"
        },
        "id": "npn4KanDuk-X",
        "outputId": "eb4fa724-2fb7-46bd-c591-229b47e3fce0"
      },
      "execution_count": null,
      "outputs": [
        {
          "output_type": "stream",
          "name": "stdout",
          "text": [
            "Original Array: [ 1  2  3  4  5  6  7  8  9 10 11 12 13 14 15 16 17 18 19 20]\n",
            "Even Numbers: [ 2  4  6  8 10 12 14 16 18 20]\n",
            "Reversed Array: [20 19 18 17 16 15 14 13 12 11 10  9  8  7  6  5  4  3  2  1]\n"
          ]
        }
      ]
    },
    {
      "cell_type": "code",
      "source": [
        "import numpy as np   # importing numpy library\n",
        "\n",
        "# creating a NumPy array\n",
        "arr = np.array([10, 20, 30, 40, 50])\n",
        "\n",
        "# printing the whole array\n",
        "print(\"Array:\", arr)\n",
        "\n",
        "# printing the first element\n",
        "print(\"First element:\", arr[0])\n",
        "\n",
        "# printing the last element\n",
        "print(\"Last element:\", arr[-1])"
      ],
      "metadata": {
        "colab": {
          "base_uri": "https://localhost:8080/"
        },
        "id": "cguCbWpXuxlS",
        "outputId": "c7b19e3c-c6fe-4015-bd6e-36d3df24fb38"
      },
      "execution_count": null,
      "outputs": [
        {
          "output_type": "stream",
          "name": "stdout",
          "text": [
            "Array: [10 20 30 40 50]\n",
            "First element: 10\n",
            "Last element: 50\n"
          ]
        }
      ]
    },
    {
      "cell_type": "code",
      "source": [
        "import numpy as np\n",
        "\n",
        "# Create a 2D array of shape (4, 4) with numbers from 1 to 16\n",
        "arr = np.arange(1, 17).reshape(4, 4)\n",
        "print(\"Original 4x4 Array:\")\n",
        "print(arr)\n",
        "\n",
        "# Extract the first two rows and last two columns\n",
        "sub_array = arr[:2, -2:]\n",
        "print(\"\\nFirst two rows and last two columns:\")\n",
        "print(sub_array)\n",
        "\n",
        "# Replace the diagonal elements with 0\n",
        "for i in range(len(arr)):\n",
        "    arr[i, i] = 0\n",
        "\n",
        "print(\"\\nArray after replacing diagonal elements with 0:\")\n",
        "print(arr)"
      ],
      "metadata": {
        "colab": {
          "base_uri": "https://localhost:8080/"
        },
        "id": "AtpdOFL4u-s1",
        "outputId": "0ab5d6fe-152f-443c-edb9-d46de250b074"
      },
      "execution_count": null,
      "outputs": [
        {
          "output_type": "stream",
          "name": "stdout",
          "text": [
            "Original 4x4 Array:\n",
            "[[ 1  2  3  4]\n",
            " [ 5  6  7  8]\n",
            " [ 9 10 11 12]\n",
            " [13 14 15 16]]\n",
            "\n",
            "First two rows and last two columns:\n",
            "[[3 4]\n",
            " [7 8]]\n",
            "\n",
            "Array after replacing diagonal elements with 0:\n",
            "[[ 0  2  3  4]\n",
            " [ 5  0  7  8]\n",
            " [ 9 10  0 12]\n",
            " [13 14 15  0]]\n"
          ]
        }
      ]
    },
    {
      "cell_type": "code",
      "source": [
        "import numpy as np\n",
        "\n",
        "# Create an array of 25 random integers between 1 and 100\n",
        "random_array = np.random.randint(1, 101, size=25)\n",
        "\n",
        "print(\"Original Array:\")\n",
        "print(random_array)\n",
        "\n",
        "# Sort the array using np.sort()\n",
        "sorted_array = np.sort(random_array)\n",
        "\n",
        "print(\"\\nSorted Array:\")\n",
        "print(sorted_array)"
      ],
      "metadata": {
        "colab": {
          "base_uri": "https://localhost:8080/"
        },
        "id": "tY5sLnQPvdEu",
        "outputId": "8f86d934-f6c7-4e11-a3f1-753e1fd53aa4"
      },
      "execution_count": null,
      "outputs": [
        {
          "output_type": "stream",
          "name": "stdout",
          "text": [
            "Original Array:\n",
            "[15 71 91 86 46 42 69 26 74 53  1 25 75 77 29 29 52 23 72 24 54 17 36 68\n",
            " 42]\n",
            "\n",
            "Sorted Array:\n",
            "[ 1 15 17 23 24 25 26 29 29 36 42 42 46 52 53 54 68 69 71 72 74 75 77 86\n",
            " 91]\n"
          ]
        }
      ]
    },
    {
      "cell_type": "code",
      "source": [
        "import numpy as np\n",
        "\n",
        "# create a 1D array from 1 to 10\n",
        "arr = np.arange(1, 11)\n",
        "\n",
        "print(\"Array:\", arr)\n",
        "\n",
        "# find maximum value\n",
        "print(\"Maximum:\", np.max(arr))\n",
        "\n",
        "# find minimum value\n",
        "print(\"Minimum:\", np.min(arr))\n",
        "\n",
        "# find sum of all elements\n",
        "print(\"Sum:\", np.sum(arr))"
      ],
      "metadata": {
        "colab": {
          "base_uri": "https://localhost:8080/"
        },
        "id": "LjhA1dJhvfAw",
        "outputId": "038750b6-95ff-4cae-e2a7-287f3761a878"
      },
      "execution_count": null,
      "outputs": [
        {
          "output_type": "stream",
          "name": "stdout",
          "text": [
            "Array: [ 1  2  3  4  5  6  7  8  9 10]\n",
            "Maximum: 10\n",
            "Minimum: 1\n",
            "Sum: 55\n"
          ]
        }
      ]
    },
    {
      "cell_type": "code",
      "source": [
        "import numpy as np\n",
        "\n",
        "# Create a 1D array with 36 elements (1 to 36)\n",
        "arr_1d = np.arange(1, 37)\n",
        "\n",
        "# Reshape into 6x6 (2D array)\n",
        "arr_2d = arr_1d.reshape(6, 6)\n",
        "\n",
        "print(\"Original 2D Array (6x6):\")\n",
        "print(arr_2d)\n",
        "\n",
        "# Sum of each row (axis=1 → across columns)\n",
        "row_sum = np.sum(arr_2d, axis=1)\n",
        "\n",
        "# Sum of each column (axis=0 → across rows)\n",
        "col_sum = np.sum(arr_2d, axis=0)\n",
        "\n",
        "print(\"\\nSum of each row:\")\n",
        "print(row_sum)\n",
        "\n",
        "print(\"\\nSum of each column:\")\n",
        "print(col_sum)\n"
      ],
      "metadata": {
        "id": "JGheHy02wBUt",
        "outputId": "ceb5326f-ccc5-4744-8b32-ea93c9077bea",
        "colab": {
          "base_uri": "https://localhost:8080/"
        }
      },
      "execution_count": null,
      "outputs": [
        {
          "output_type": "stream",
          "name": "stdout",
          "text": [
            "Original 2D Array (6x6):\n",
            "[[ 1  2  3  4  5  6]\n",
            " [ 7  8  9 10 11 12]\n",
            " [13 14 15 16 17 18]\n",
            " [19 20 21 22 23 24]\n",
            " [25 26 27 28 29 30]\n",
            " [31 32 33 34 35 36]]\n",
            "\n",
            "Sum of each row:\n",
            "[ 21  57  93 129 165 201]\n",
            "\n",
            "Sum of each column:\n",
            "[ 96 102 108 114 120 126]\n"
          ]
        }
      ]
    }
  ]
}