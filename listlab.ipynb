{
  "nbformat": 4,
  "nbformat_minor": 0,
  "metadata": {
    "colab": {
      "provenance": [],
      "authorship_tag": "ABX9TyPVY4/mZvwKxPCOHzAExjoE",
      "include_colab_link": true
    },
    "kernelspec": {
      "name": "python3",
      "display_name": "Python 3"
    },
    "language_info": {
      "name": "python"
    }
  },
  "cells": [
    {
      "cell_type": "markdown",
      "metadata": {
        "id": "view-in-github",
        "colab_type": "text"
      },
      "source": [
        "<a href=\"https://colab.research.google.com/github/JavariaAmber/python-project/blob/main/listlab.ipynb\" target=\"_parent\"><img src=\"https://colab.research.google.com/assets/colab-badge.svg\" alt=\"Open In Colab\"/></a>"
      ]
    },
    {
      "cell_type": "code",
      "execution_count": null,
      "metadata": {
        "colab": {
          "base_uri": "https://localhost:8080/"
        },
        "id": "BUU8jcz-OfFK",
        "outputId": "dd725487-0be9-42b9-d479-4e97570a9b7a"
      },
      "outputs": [
        {
          "output_type": "stream",
          "name": "stdout",
          "text": [
            "First fruit: Apple\n",
            "Last fruit: Mango\n"
          ]
        }
      ],
      "source": [
        "# Create a list of 5 fruits\n",
        "fruits = [\"Apple\", \"Banana\", \"Orange\", \"Grapes\", \"Mango\"]\n",
        "\n",
        "# Print the first and last fruit\n",
        "print(\"First fruit:\", fruits[0])\n",
        "print(\"Last fruit:\", fruits[-1])\n"
      ]
    },
    {
      "cell_type": "code",
      "source": [
        "# Create a list of numbers\n",
        "numbers = [10, 20, 30, 40, 50]\n",
        "\n",
        "# Calculate the sum of all numbers\n",
        "total = sum(numbers)\n",
        "\n",
        "# Print the sum\n",
        "print(\"The sum of all numbers in the list is:\", total)"
      ],
      "metadata": {
        "colab": {
          "base_uri": "https://localhost:8080/"
        },
        "id": "OFltLqEV_Dws",
        "outputId": "0537d328-d139-40f0-d4df-6dfb2452e178"
      },
      "execution_count": null,
      "outputs": [
        {
          "output_type": "stream",
          "name": "stdout",
          "text": [
            "The sum of all numbers in the list is: 150\n"
          ]
        }
      ]
    },
    {
      "cell_type": "code",
      "source": [
        "# Create a list of 4 colors\n",
        "colors = [\"Red\", \"Blue\", \"Green\", \"Yellow\"]\n",
        "\n",
        "# Replace the 2nd color (index 1) with a new one\n",
        "colors[1] = \"Purple\"\n",
        "\n",
        "# Print the updated list\n",
        "print(\"Updated list of colors:\", colors)"
      ],
      "metadata": {
        "colab": {
          "base_uri": "https://localhost:8080/"
        },
        "id": "fo4ZKrlz_8T9",
        "outputId": "3b6591af-dc70-4c4a-8a5e-6a2b14002a85"
      },
      "execution_count": null,
      "outputs": [
        {
          "output_type": "stream",
          "name": "stdout",
          "text": [
            "Updated list of colors: ['Red', 'Purple', 'Green', 'Yellow']\n"
          ]
        }
      ]
    },
    {
      "cell_type": "code",
      "source": [
        "# Create a list\n",
        "numbers = [5, 10, 15, 20, 25]\n",
        "\n",
        "# Remove the number 15\n",
        "numbers.remove(15)\n",
        "\n",
        "# Print the updated list\n",
        "print(\"Updated list:\", numbers)"
      ],
      "metadata": {
        "colab": {
          "base_uri": "https://localhost:8080/"
        },
        "id": "1IjBphkuAAEk",
        "outputId": "e718f1db-549b-4512-f159-6e1620f2344b"
      },
      "execution_count": null,
      "outputs": [
        {
          "output_type": "stream",
          "name": "stdout",
          "text": [
            "Updated list: [5, 10, 20, 25]\n"
          ]
        }
      ]
    }
  ]
}