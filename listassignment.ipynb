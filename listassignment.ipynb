{
  "nbformat": 4,
  "nbformat_minor": 0,
  "metadata": {
    "colab": {
      "provenance": [],
      "authorship_tag": "ABX9TyOATLHuExMIf/N1ZF8zFsF/",
      "include_colab_link": true
    },
    "kernelspec": {
      "name": "python3",
      "display_name": "Python 3"
    },
    "language_info": {
      "name": "python"
    }
  },
  "cells": [
    {
      "cell_type": "markdown",
      "metadata": {
        "id": "view-in-github",
        "colab_type": "text"
      },
      "source": [
        "<a href=\"https://colab.research.google.com/github/JavariaAmber/python-project/blob/main/listassignment.ipynb\" target=\"_parent\"><img src=\"https://colab.research.google.com/assets/colab-badge.svg\" alt=\"Open In Colab\"/></a>"
      ]
    },
    {
      "cell_type": "code",
      "execution_count": null,
      "metadata": {
        "colab": {
          "base_uri": "https://localhost:8080/"
        },
        "id": "BIXXksoCmf1w",
        "outputId": "82ff5acc-19ac-46f9-fd9f-e21ba448d5a7"
      },
      "outputs": [
        {
          "output_type": "stream",
          "name": "stdout",
          "text": [
            "Even numbers from the list:\n",
            "8\n",
            "22\n",
            "10\n"
          ]
        }
      ],
      "source": [
        "# create a list of 7 numbers\n",
        "numbers = [3, 8, 15, 22, 7, 10, 5]\n",
        "\n",
        "print(\"Even numbers from the list:\")\n",
        "\n",
        "# loop through each number\n",
        "for num in numbers:\n",
        "    # check if the number is even\n",
        "    if num % 2 == 0:\n",
        "        print(num)"
      ]
    },
    {
      "cell_type": "code",
      "source": [
        "# List of student names\n",
        "students = [\"Ali\", \"Ayesha\", \"Hamza\", \"Sara\", \"Bilal\"]\n",
        "\n",
        "# Ask the user to enter a name\n",
        "name = input(\"Enter a student name: \")\n",
        "\n",
        "# Check if the name exists in the list\n",
        "if name in students:\n",
        "    print(\"Found\")\n",
        "else:\n",
        "    print(\"Not Found\")"
      ],
      "metadata": {
        "colab": {
          "base_uri": "https://localhost:8080/"
        },
        "id": "rRQsBmd8mxkB",
        "outputId": "91dfe02d-a4ec-40da-99c2-af40e68c2020"
      },
      "execution_count": null,
      "outputs": [
        {
          "output_type": "stream",
          "name": "stdout",
          "text": [
            "Enter a student name: Hamza\n",
            "Found\n"
          ]
        }
      ]
    },
    {
      "cell_type": "code",
      "source": [
        "# create a list of 6 numbers\n",
        "numbers = [12, 45, 7, 23, 89, 34]\n",
        "\n",
        "# assume the first number is both min and max\n",
        "maximum = numbers[0]\n",
        "minimum = numbers[0]\n",
        "\n",
        "# loop through the list\n",
        "for num in numbers:\n",
        "    if num > maximum:\n",
        "        maximum = num\n",
        "    if num < minimum:\n",
        "        minimum = num\n",
        "\n",
        "# print results\n",
        "print(\"Numbers in the list:\", numbers)\n",
        "print(\"Maximum number is:\", maximum)\n",
        "print(\"Minimum number is:\", minimum)"
      ],
      "metadata": {
        "colab": {
          "base_uri": "https://localhost:8080/"
        },
        "id": "8kO908ZInnOz",
        "outputId": "747a9e0a-ca95-4605-cbc2-74f7cdb3ca49"
      },
      "execution_count": null,
      "outputs": [
        {
          "output_type": "stream",
          "name": "stdout",
          "text": [
            "Numbers in the list: [12, 45, 7, 23, 89, 34]\n",
            "Maximum number is: 89\n",
            "Minimum number is: 7\n"
          ]
        }
      ]
    },
    {
      "cell_type": "code",
      "source": [
        "# Original list\n",
        "numbers = [2, 4, 6, 8, 10]\n",
        "\n",
        "# Multiply each number by 3 and store in a new list\n",
        "multiplied = []\n",
        "for n in numbers:\n",
        "    multiplied.append(n * 3)\n",
        "\n",
        "# Print the new list\n",
        "print(\"New list after multiplying by 3:\", multiplied)"
      ],
      "metadata": {
        "colab": {
          "base_uri": "https://localhost:8080/"
        },
        "id": "VCs1COyIn1rD",
        "outputId": "06440881-0ff2-49f6-b921-baed24b19019"
      },
      "execution_count": null,
      "outputs": [
        {
          "output_type": "stream",
          "name": "stdout",
          "text": [
            "New list after multiplying by 3: [6, 12, 18, 24, 30]\n"
          ]
        }
      ]
    },
    {
      "cell_type": "code",
      "source": [
        "# Nested list of students with their names and ages\n",
        "students = [[\"Ali\", 20], [\"Sara\", 22], [\"Ahmed\", 19]]\n",
        "\n",
        "# Printing only the names of the students\n",
        "for student in students:\n",
        "    print(student[0])"
      ],
      "metadata": {
        "colab": {
          "base_uri": "https://localhost:8080/"
        },
        "id": "5kGRe89XoIgs",
        "outputId": "f4d47701-8ab2-4512-de29-13b8d7012578"
      },
      "execution_count": null,
      "outputs": [
        {
          "output_type": "stream",
          "name": "stdout",
          "text": [
            "Ali\n",
            "Sara\n",
            "Ahmed\n"
          ]
        }
      ]
    },
    {
      "cell_type": "code",
      "source": [
        "# create a list of numbers\n",
        "numbers = [12, 45, 7, 89, 34, 67]\n",
        "\n",
        "# sort the list in ascending order\n",
        "numbers.sort()\n",
        "\n",
        "# print the second largest number\n",
        "print(\"The second largest number is:\", numbers[-2])"
      ],
      "metadata": {
        "colab": {
          "base_uri": "https://localhost:8080/"
        },
        "id": "c4UDZ0K1oaRV",
        "outputId": "0b15e3cd-18ae-4dc7-e8fa-9b55dc4313d1"
      },
      "execution_count": null,
      "outputs": [
        {
          "output_type": "stream",
          "name": "stdout",
          "text": [
            "The second largest number is: 67\n"
          ]
        }
      ]
    },
    {
      "cell_type": "code",
      "source": [
        "# create a list of numbers\n",
        "numbers = [1, 2, 3, 4, 5, 6, 7, 8, 9]\n",
        "\n",
        "# print elements at odd indexes (1, 3, 5, ...)\n",
        "print(\"Numbers at odd indexes are:\")\n",
        "for i in range(len(numbers)):\n",
        "    if i % 2 != 0:   # check if index is odd\n",
        "        print(numbers[i])"
      ],
      "metadata": {
        "colab": {
          "base_uri": "https://localhost:8080/"
        },
        "id": "XtnNztzToqJk",
        "outputId": "5c0e47a0-381b-4e6b-bc80-02bb817a8405"
      },
      "execution_count": null,
      "outputs": [
        {
          "output_type": "stream",
          "name": "stdout",
          "text": [
            "Numbers at odd indexes are:\n",
            "2\n",
            "4\n",
            "6\n",
            "8\n"
          ]
        }
      ]
    },
    {
      "cell_type": "code",
      "source": [
        "# Create a list of words\n",
        "words = [\"Learning\", \"Python\", \"is\", \"fun\", \"and\", \"useful\"]\n",
        "\n",
        "# Join the words into a single sentence\n",
        "sentence = \" \".join(words)\n",
        "\n",
        "# Print the sentence\n",
        "print(sentence)"
      ],
      "metadata": {
        "colab": {
          "base_uri": "https://localhost:8080/"
        },
        "id": "IQbMoBWHo3sY",
        "outputId": "604acb52-d65d-4db8-f314-966b3bd13b60"
      },
      "execution_count": null,
      "outputs": [
        {
          "output_type": "stream",
          "name": "stdout",
          "text": [
            "Learning Python is fun and useful\n"
          ]
        }
      ]
    },
    {
      "cell_type": "code",
      "source": [
        "# Creating a dictionary\n",
        "student = {\n",
        "    \"name\": \"Ali\",\n",
        "    \"age\": 20,\n",
        "    \"grade\": \"A\",\n",
        "    \"city\": \"Lahore\"\n",
        "}\n",
        "\n",
        "# Removing one key-value pair using pop()\n",
        "student.pop(\"city\")\n",
        "\n",
        "# Printing the updated dictionary\n",
        "print(\"Updated dictionary:\", student)"
      ],
      "metadata": {
        "id": "4AIoYT9-tMht",
        "outputId": "f19c897f-a82d-4261-cb7f-38c36426d49a",
        "colab": {
          "base_uri": "https://localhost:8080/"
        }
      },
      "execution_count": null,
      "outputs": [
        {
          "output_type": "stream",
          "name": "stdout",
          "text": [
            "Updated dictionary: {'name': 'Ali', 'age': 20, 'grade': 'A'}\n"
          ]
        }
      ]
    }
  ]
}