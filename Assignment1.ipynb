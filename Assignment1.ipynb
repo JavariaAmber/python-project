{
  "nbformat": 4,
  "nbformat_minor": 0,
  "metadata": {
    "colab": {
      "provenance": []
    },
    "kernelspec": {
      "name": "python3",
      "display_name": "Python 3"
    },
    "language_info": {
      "name": "python"
    }
  },
  "cells": [
    {
      "cell_type": "code",
      "execution_count": null,
      "metadata": {
        "id": "VxJ-HkMauloK"
      },
      "outputs": [],
      "source": [
        "# Ask the user for their birth year and current year\n",
        "birth_year = int(input(\"Enter your birth year: \"))\n",
        "current_year = int(input(\"Enter the current year: \"))\n",
        "\n",
        "# Calculate age using arithmetic\n",
        "age = current_year - birth_year\n",
        "\n",
        "# Print the result\n",
        "print(\"Your age is:\", age)"
      ]
    },
    {
      "cell_type": "code",
      "source": [],
      "metadata": {
        "id": "91TbyGuDz9Rm"
      },
      "execution_count": null,
      "outputs": []
    },
    {
      "cell_type": "code",
      "source": [
        "# Get input from the user\n",
        "principal = float(input(\"Enter the principal amount: \"))\n",
        "rate = float(input(\"Enter the rate of interest (in %): \"))\n",
        "time = float(input(\"Enter the time (in years): \"))\n",
        "\n",
        "# Calculate simple interest\n",
        "simple_interest = (principal * rate * time) / 100\n",
        "\n",
        "# Display the result\n",
        "print(\"The Simple Interest is:\", simple_interest)"
      ],
      "metadata": {
        "id": "hzyc4NSpz_w7"
      },
      "execution_count": null,
      "outputs": []
    },
    {
      "cell_type": "code",
      "source": [
        "# Get input from the user\n",
        "length = float(input(\"Enter the length of the rectangle: \"))\n",
        "width = float(input(\"Enter the width of the rectangle: \"))\n",
        "\n",
        "# Calculate area\n",
        "area = length * width\n",
        "\n",
        "# Display the result\n",
        "print(\"The area of the rectangle is:\", area)"
      ],
      "metadata": {
        "id": "SrEFgj5F8SXz"
      },
      "execution_count": null,
      "outputs": []
    },
    {
      "cell_type": "code",
      "source": [
        "# Define the value of pi\n",
        "pi = 3.14159\n",
        "\n",
        "# Get input from the user\n",
        "radius = float(input(\"Enter the radius of the circle: \"))\n",
        "\n",
        "# Calculate area and circumference\n",
        "area = pi * radius * radius\n",
        "circumference = 2 * pi * radius\n",
        "\n",
        "# Display the results\n",
        "print(\"The area of the circle is:\", area)\n",
        "print(\"The circumference of the circle is:\", circumference)"
      ],
      "metadata": {
        "id": "XiVIJuzk8r6S"
      },
      "execution_count": null,
      "outputs": []
    },
    {
      "cell_type": "code",
      "source": [
        "# Get temperature in Celsius from the user\n",
        "celsius = float(input(\"Enter temperature in Celsius: \"))\n",
        "\n",
        "# Convert to Fahrenheit\n",
        "fahrenheit = (celsius * 9/5) + 32\n",
        "\n",
        "# Display the result\n",
        "print(\"Temperature in Fahrenheit:\", fahrenheit)"
      ],
      "metadata": {
        "id": "CHXnCimA85jG"
      },
      "execution_count": null,
      "outputs": []
    },
    {
      "cell_type": "code",
      "source": [
        "# Get three numbers from the user\n",
        "num1 = float(input(\"Enter the first number: \"))\n",
        "num2 = float(input(\"Enter the second number: \"))\n",
        "num3 = float(input(\"Enter the third number: \"))\n",
        "\n",
        "# Calculate average\n",
        "average = (num1 + num2 + num3) / 3\n",
        "\n",
        "# Display the result\n",
        "print(\"The average of the three numbers is:\", average)"
      ],
      "metadata": {
        "id": "nr-bNl-49Sg_"
      },
      "execution_count": null,
      "outputs": []
    }
  ]
}