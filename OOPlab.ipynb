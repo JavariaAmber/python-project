{
  "nbformat": 4,
  "nbformat_minor": 0,
  "metadata": {
    "colab": {
      "provenance": [],
      "authorship_tag": "ABX9TyONS+hHX9feRod2RrzVfYyd",
      "include_colab_link": true
    },
    "kernelspec": {
      "name": "python3",
      "display_name": "Python 3"
    },
    "language_info": {
      "name": "python"
    }
  },
  "cells": [
    {
      "cell_type": "markdown",
      "metadata": {
        "id": "view-in-github",
        "colab_type": "text"
      },
      "source": [
        "<a href=\"https://colab.research.google.com/github/JavariaAmber/python-project/blob/main/OOPlab.ipynb\" target=\"_parent\"><img src=\"https://colab.research.google.com/assets/colab-badge.svg\" alt=\"Open In Colab\"/></a>"
      ]
    },
    {
      "cell_type": "code",
      "execution_count": null,
      "metadata": {
        "id": "FmrNlU8pUiVc",
        "colab": {
          "base_uri": "https://localhost:8080/",
          "height": 211
        },
        "outputId": "d8726b33-96ac-429f-b672-0bd95fa7528e"
      },
      "outputs": [
        {
          "output_type": "error",
          "ename": "NameError",
          "evalue": "name 'Car' is not defined",
          "traceback": [
            "\u001b[0;31m---------------------------------------------------------------------------\u001b[0m",
            "\u001b[0;31mNameError\u001b[0m                                 Traceback (most recent call last)",
            "\u001b[0;32m/tmp/ipython-input-3731504407.py\u001b[0m in \u001b[0;36m<cell line: 0>\u001b[0;34m()\u001b[0m\n\u001b[1;32m     10\u001b[0m \u001b[0;34m\u001b[0m\u001b[0m\n\u001b[1;32m     11\u001b[0m \u001b[0;31m# Creating two car objects\u001b[0m\u001b[0;34m\u001b[0m\u001b[0;34m\u001b[0m\u001b[0m\n\u001b[0;32m---> 12\u001b[0;31m \u001b[0mcar1\u001b[0m \u001b[0;34m=\u001b[0m \u001b[0mCar\u001b[0m\u001b[0;34m(\u001b[0m\u001b[0;34m\"Toyota\"\u001b[0m\u001b[0;34m,\u001b[0m \u001b[0;34m\"Corolla\"\u001b[0m\u001b[0;34m,\u001b[0m \u001b[0;36m2020\u001b[0m\u001b[0;34m)\u001b[0m\u001b[0;34m\u001b[0m\u001b[0;34m\u001b[0m\u001b[0m\n\u001b[0m\u001b[1;32m     13\u001b[0m \u001b[0mcar2\u001b[0m \u001b[0;34m=\u001b[0m \u001b[0mCar\u001b[0m\u001b[0;34m(\u001b[0m\u001b[0;34m\"Honda\"\u001b[0m\u001b[0;34m,\u001b[0m \u001b[0;34m\"Civic\"\u001b[0m\u001b[0;34m,\u001b[0m \u001b[0;36m2022\u001b[0m\u001b[0;34m)\u001b[0m\u001b[0;34m\u001b[0m\u001b[0;34m\u001b[0m\u001b[0m\n\u001b[1;32m     14\u001b[0m \u001b[0;34m\u001b[0m\u001b[0m\n",
            "\u001b[0;31mNameError\u001b[0m: name 'Car' is not defined"
          ]
        }
      ],
      "source": [
        "#creating a car class\n",
        "class car:\n",
        "    def __init__(self, brand, model, year):\n",
        "       self.brand = brand\n",
        "       self.model = model\n",
        "#Method to display car information\n",
        "def car_info(self):\n",
        "    print(f\"Car Details: {self.year} {self.brand} {self.model}\")\n",
        "\n",
        "\n",
        "# Creating two car objects\n",
        "car1 = Car(\"Toyota\", \"Corolla\", 2020)\n",
        "car2 = Car(\"Honda\", \"Civic\", 2022)\n",
        "\n",
        "# Calling the method for both objects\n",
        "car1.car_info()\n",
        "car2.car_info()\n"
      ]
    },
    {
      "cell_type": "code",
      "source": [
        "# Defining a Student class\n",
        "class Student:\n",
        "    def __init__(self, name, roll_no, marks):\n",
        "        self.name = name\n",
        "        self.roll_no = roll_no\n",
        "        self.marks = marks\n",
        "\n",
        "    def display_result(self):\n",
        "        if self.marks >= 40:\n",
        "            print(f\"{self.name} (Roll No: {self.roll_no}) has Passed with {self.marks} marks.\")\n",
        "        else:\n",
        "            print(f\"{self.name} (Roll No: {self.roll_no}) has Failed with {self.marks} marks.\")\n",
        "\n",
        "# Creating objects of Student\n",
        "student1 = Student(\"Ali\", 101, 75)\n",
        "student2 = Student(\"Sara\", 102, 35)\n",
        "\n",
        "# Calling the method for both objects\n",
        "student1.display_result()\n",
        "student2.display_result()"
      ],
      "metadata": {
        "colab": {
          "base_uri": "https://localhost:8080/"
        },
        "id": "GqBTcCVhFh-G",
        "outputId": "3fd0a304-880e-4311-effb-781944d7824a"
      },
      "execution_count": null,
      "outputs": [
        {
          "output_type": "stream",
          "name": "stdout",
          "text": [
            "Ali (Roll No: 101) has Passed with 75 marks.\n",
            "Sara (Roll No: 102) has Failed with 35 marks.\n"
          ]
        }
      ]
    },
    {
      "cell_type": "code",
      "source": [
        "class Calculator:\n",
        "    # method to add two numbers\n",
        "    def add(self, x, y):\n",
        "        return x + y\n",
        "\n",
        "    # method to subtract two numbers\n",
        "    def subtract(self, x, y):\n",
        "        return x - y\n",
        "\n",
        "    # method to multiply two numbers\n",
        "    def multiply(self, x, y):\n",
        "        return x * y\n",
        "\n",
        "    # method to divide two numbers\n",
        "    def divide(self, x, y):\n",
        "        if y != 0:\n",
        "            return x / y\n",
        "        else:\n",
        "            return \"Error! Division by zero is not allowed.\"\n",
        "\n",
        "# creating an object of Calculator class\n",
        "calc = Calculator()\n",
        "\n",
        "# using the object to perform operations\n",
        "print(\"Addition:\", calc.add(10, 5))\n",
        "print(\"Subtraction:\", calc.subtract(10, 5))\n",
        "print(\"Multiplication:\", calc.multiply(10, 5))\n",
        "print(\"Division:\", calc.divide(10, 5))\n",
        "print(\"Division by zero:\", calc.divide(10, 0))"
      ],
      "metadata": {
        "colab": {
          "base_uri": "https://localhost:8080/"
        },
        "id": "hZ6Eii5IE702",
        "outputId": "487e6628-7be0-474d-d272-aedd4a2ca650"
      },
      "execution_count": null,
      "outputs": [
        {
          "output_type": "stream",
          "name": "stdout",
          "text": [
            "Addition: 15\n",
            "Subtraction: 5\n",
            "Multiplication: 50\n",
            "Division: 2.0\n",
            "Division by zero: Error! Division by zero is not allowed.\n"
          ]
        }
      ]
    },
    {
      "cell_type": "code",
      "source": [
        "class Book:\n",
        "    def __init__(self, title, author, price):\n",
        "        self.title = title\n",
        "        self.author = author\n",
        "        self.price = price\n",
        "\n",
        "    # method to calculate discounted price\n",
        "    def discounted_price(self, discount_percentage):\n",
        "        discount_amount = (discount_percentage / 100) * self.price\n",
        "        return self.price - discount_amount\n",
        "\n",
        "\n",
        "# creating two book objects\n",
        "book1 = Book(\"The Alchemist\", \"Paulo Coelho\", 1200)\n",
        "book2 = Book(\"Python Programming\", \"John Zelle\", 2000)\n",
        "\n",
        "# printing discounted prices\n",
        "print(\"Book:\", book1.title, \"| Discounted Price:\", book1.discounted_price(10))\n",
        "print(\"Book:\", book2.title, \"| Discounted Price:\", book2.discounted_price(15))\n"
      ],
      "metadata": {
        "colab": {
          "base_uri": "https://localhost:8080/"
        },
        "id": "D_J9NJgzFOvi",
        "outputId": "208cb5ec-2d53-4708-ab06-95cfa98f236d"
      },
      "execution_count": null,
      "outputs": [
        {
          "output_type": "stream",
          "name": "stdout",
          "text": [
            "Book: The Alchemist | Discounted Price: 1080.0\n",
            "Book: Python Programming | Discounted Price: 1700.0\n"
          ]
        }
      ]
    },
    {
      "cell_type": "code",
      "source": [
        "# Base class\n",
        "class Animal:\n",
        "    def sound(self):\n",
        "        print(\"This animal makes a sound.\")\n",
        "\n",
        "# Child class Dog\n",
        "class Dog(Animal):\n",
        "    def sound(self):\n",
        "        print(\"Woof!\")\n",
        "\n",
        "# Child class Cat\n",
        "class Cat(Animal):\n",
        "    def sound(self):\n",
        "        print(\"Meow!\")\n",
        "\n",
        "# Creating objects\n",
        "dog = Dog()\n",
        "cat = Cat()\n",
        "\n",
        "# Calling their sound methods\n",
        "dog.sound()   # Output: Woof!\n",
        "cat.sound()   # Output: Meow!\n"
      ],
      "metadata": {
        "colab": {
          "base_uri": "https://localhost:8080/"
        },
        "id": "st4InsolFae1",
        "outputId": "28ef0160-f85b-4cb1-f567-0390c308a811"
      },
      "execution_count": null,
      "outputs": [
        {
          "output_type": "stream",
          "name": "stdout",
          "text": [
            "Woof!\n",
            "Meow!\n"
          ]
        }
      ]
    },
    {
      "cell_type": "code",
      "source": [
        "# Base class\n",
        "class Grandparent:\n",
        "    def show_generation(self):\n",
        "        print(\"I am Grandparent\")\n",
        "\n",
        "# Derived class Parent\n",
        "class Parent(Grandparent):\n",
        "    def show_generation(self):\n",
        "        print(\"I am Parent\")\n",
        "\n",
        "# Derived class Child\n",
        "class Child(Parent):\n",
        "    def show_generation(self):\n",
        "        print(\"I am Child\")\n",
        "\n",
        "# Create object of Child\n",
        "c = Child()\n",
        "c.show_generation()\n"
      ],
      "metadata": {
        "id": "BruWkJl-FxCk",
        "outputId": "599c1788-4f67-4b1c-a5ab-5045b2c560ea",
        "colab": {
          "base_uri": "https://localhost:8080/"
        }
      },
      "execution_count": null,
      "outputs": [
        {
          "output_type": "stream",
          "name": "stdout",
          "text": [
            "I am Child\n"
          ]
        }
      ]
    }
  ]
}