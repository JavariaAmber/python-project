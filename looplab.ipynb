{
  "nbformat": 4,
  "nbformat_minor": 0,
  "metadata": {
    "colab": {
      "provenance": []
    },
    "kernelspec": {
      "name": "python3",
      "display_name": "Python 3"
    },
    "language_info": {
      "name": "python"
    }
  },
  "cells": [
    {
      "cell_type": "code",
      "execution_count": 1,
      "metadata": {
        "colab": {
          "base_uri": "https://localhost:8080/"
        },
        "id": "ixiESEc1r32g",
        "outputId": "71d3faed-1310-42cc-d57f-a99aa1e00256"
      },
      "outputs": [
        {
          "output_type": "stream",
          "name": "stdout",
          "text": [
            "Enter an integer: 7\n",
            "\n",
            "Multiplication Table of 7:\n",
            "7 x 1 = 7\n",
            "7 x 2 = 14\n",
            "7 x 3 = 21\n",
            "7 x 4 = 28\n",
            "7 x 5 = 35\n",
            "7 x 6 = 42\n",
            "7 x 7 = 49\n",
            "7 x 8 = 56\n",
            "7 x 9 = 63\n",
            "7 x 10 = 70\n"
          ]
        }
      ],
      "source": [
        "# Program to generate multiplication table for a given number\n",
        "\n",
        "# Get input from the user\n",
        "n = int(input(\"Enter an integer: \"))\n",
        "\n",
        "# Display multiplication table from 1 to 10\n",
        "print(f\"\\nMultiplication Table of {n}:\")\n",
        "for i in range(1, 11):\n",
        "    print(f\"{n} x {i} = {n * i}\")\n"
      ]
    },
    {
      "cell_type": "code",
      "source": [
        "# Program to display the Fibonacci series up to n terms\n",
        "\n",
        "# Get the number of terms from the user\n",
        "n = int(input(\"Enter the number of terms: \"))\n",
        "\n",
        "# First two terms of the Fibonacci series\n",
        "a, b = 0, 1\n",
        "\n",
        "print(\"\\nFibonacci Series:\")\n",
        "\n",
        "# Generate and display the Fibonacci sequence\n",
        "if n <= 0:\n",
        "    print(\"Please enter a positive integer.\")\n",
        "elif n == 1:\n",
        "    print(a)\n",
        "else:\n",
        "    for i in range(n):\n",
        "        print(a, end=\" \")\n",
        "        a, b = b, a + b  # Update values\n"
      ],
      "metadata": {
        "colab": {
          "base_uri": "https://localhost:8080/"
        },
        "id": "i2o0f4mIsi7Y",
        "outputId": "7a041304-9a5b-4e4d-f680-a9f4165da803"
      },
      "execution_count": 2,
      "outputs": [
        {
          "output_type": "stream",
          "name": "stdout",
          "text": [
            "Enter the number of terms: 10\n",
            "\n",
            "Fibonacci Series:\n",
            "0 1 1 2 3 5 8 13 21 34 "
          ]
        }
      ]
    },
    {
      "cell_type": "code",
      "source": [
        "# Program to check whether a number is prime or not\n",
        "\n",
        "# Get input from user\n",
        "n = int(input(\"Enter a number: \"))\n",
        "\n",
        "# Prime number check\n",
        "if n <= 1:\n",
        "    print(f\"{n} is not a prime number.\")\n",
        "else:\n",
        "    is_prime = True\n",
        "    for i in range(2, int(n**0.5) + 1):  # Check divisibility up to square root of n\n",
        "        if n % i == 0:\n",
        "            is_prime = False\n",
        "            break\n",
        "\n",
        "    if is_prime:\n",
        "        print(f\"{n} is a prime number.\")\n",
        "    else:\n",
        "        print(f\"{n} is not a prime number.\")"
      ],
      "metadata": {
        "colab": {
          "base_uri": "https://localhost:8080/"
        },
        "id": "5riEFXx6sxXB",
        "outputId": "5db13bbc-36f4-4adc-a439-86ea67bd3643"
      },
      "execution_count": 5,
      "outputs": [
        {
          "output_type": "stream",
          "name": "stdout",
          "text": [
            "Enter a number: 10\n",
            "10 is not a prime number.\n"
          ]
        }
      ]
    },
    {
      "cell_type": "code",
      "source": [
        "# Program to check whether a number is prime or not\n",
        "\n",
        "# Get input from user\n",
        "n = int(input(\"Enter a number: \"))\n",
        "\n",
        "# Prime number check\n",
        "if n <= 1:\n",
        "    print(f\"{n} is not a prime number.\")\n",
        "else:\n",
        "    is_prime = True\n",
        "    for i in range(2, int(n**0.5) + 1):  # Check divisibility up to square root of n\n",
        "        if n % i == 0:\n",
        "            is_prime = False\n",
        "            break\n",
        "\n",
        "    # Display result\n",
        "    if is_prime:\n",
        "        print(f\"{n} is a prime number.\")\n",
        "    else:\n",
        "        print(f\"{n} is not a prime number.\")\n"
      ],
      "metadata": {
        "colab": {
          "base_uri": "https://localhost:8080/"
        },
        "id": "1UAH_DlftCCV",
        "outputId": "c8a8937c-3394-4f5a-ccab-96bbb18c6e49"
      },
      "execution_count": 6,
      "outputs": [
        {
          "output_type": "stream",
          "name": "stdout",
          "text": [
            "Enter a number: 7\n",
            "7 is a prime number.\n"
          ]
        }
      ]
    },
    {
      "cell_type": "code",
      "source": [
        "# Program to reverse a given integer\n",
        "\n",
        "# Get input from user\n",
        "n = int(input(\"Enter an integer: \"))\n",
        "\n",
        "# Store the sign of the number\n",
        "sign = -1 if n < 0 else 1\n",
        "n = abs(n)\n",
        "\n",
        "# Reverse the number\n",
        "reversed_num = 0\n",
        "while n != 0:\n",
        "    digit = n % 10\n",
        "    reversed_num = reversed_num * 10 + digit\n",
        "    n = n // 10\n",
        "\n",
        "# Apply the original sign\n",
        "reversed_num = reversed_num * sign\n",
        "\n",
        "print(f\"The reversed number is: {reversed_num}\")"
      ],
      "metadata": {
        "colab": {
          "base_uri": "https://localhost:8080/"
        },
        "id": "5UUw5NGftQE0",
        "outputId": "3f93bd14-76f0-480b-b6cd-28620d10e0c7"
      },
      "execution_count": 8,
      "outputs": [
        {
          "output_type": "stream",
          "name": "stdout",
          "text": [
            "Enter an integer: 123\n",
            "The reversed number is: 321\n"
          ]
        }
      ]
    }
  ]
}