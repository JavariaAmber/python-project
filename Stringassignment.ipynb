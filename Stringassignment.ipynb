{
  "nbformat": 4,
  "nbformat_minor": 0,
  "metadata": {
    "colab": {
      "provenance": [],
      "authorship_tag": "ABX9TyN8ivq7RbVXy9nuVxqrdiZ7",
      "include_colab_link": true
    },
    "kernelspec": {
      "name": "python3",
      "display_name": "Python 3"
    },
    "language_info": {
      "name": "python"
    }
  },
  "cells": [
    {
      "cell_type": "markdown",
      "metadata": {
        "id": "view-in-github",
        "colab_type": "text"
      },
      "source": [
        "<a href=\"https://colab.research.google.com/github/JavariaAmber/python-project/blob/main/Stringassignment.ipynb\" target=\"_parent\"><img src=\"https://colab.research.google.com/assets/colab-badge.svg\" alt=\"Open In Colab\"/></a>"
      ]
    },
    {
      "cell_type": "code",
      "source": [
        "# Program to find the length of a string\n",
        "\n",
        "# Taking input from the user\n",
        "user_string = input(\"Enter a string: \")\n",
        "\n",
        "# Using len() function to find length\n",
        "length = len(user_string)\n",
        "\n",
        "# Printing the result\n",
        "print(\"The length of the string is:\", length)"
      ],
      "metadata": {
        "colab": {
          "base_uri": "https://localhost:8080/"
        },
        "id": "2920d7C_hzpt",
        "outputId": "1aed9e8f-fcb8-4db1-84ad-86c54c6a585c"
      },
      "execution_count": null,
      "outputs": [
        {
          "output_type": "stream",
          "name": "stdout",
          "text": [
            "Enter a string: Hello World\n",
            "The length of the string is: 11\n"
          ]
        }
      ]
    },
    {
      "cell_type": "code",
      "source": [
        "# Program to print a string in uppercase and lowercase\n",
        "\n",
        "# taking input from user\n",
        "text = input(\"Enter a string: \")\n",
        "\n",
        "# printing in uppercase\n",
        "print(\"Uppercase:\", text.upper())\n",
        "\n",
        "# printing in lowercase\n",
        "print(\"Lowercase:\", text.lower())"
      ],
      "metadata": {
        "colab": {
          "base_uri": "https://localhost:8080/"
        },
        "id": "k64DOHLxiFpL",
        "outputId": "519f1d8c-e1b7-445d-b610-e94a62e58605"
      },
      "execution_count": null,
      "outputs": [
        {
          "output_type": "stream",
          "name": "stdout",
          "text": [
            "Enter a string: Hello World\n",
            "Uppercase: HELLO WORLD\n",
            "Lowercase: hello world\n"
          ]
        }
      ]
    },
    {
      "cell_type": "code",
      "source": [
        "# Program to print the first and last character of a string\n",
        "\n",
        "# asking user for a string\n",
        "text = input(\"Enter a string: \")\n",
        "\n",
        "# checking if string is not empty\n",
        "if len(text) > 0:\n",
        "    first_char = text[0]        # first character\n",
        "    last_char = text[-1]        # last character\n",
        "    print(\"First character:\", first_char)\n",
        "    print(\"Last character:\", last_char)\n",
        "else:\n",
        "    print(\"You entered an empty string.\")"
      ],
      "metadata": {
        "colab": {
          "base_uri": "https://localhost:8080/"
        },
        "id": "wB2zT4kYi4Q3",
        "outputId": "869a7bfc-dcd1-4cc7-9cb1-e8c8d26b6960"
      },
      "execution_count": null,
      "outputs": [
        {
          "output_type": "stream",
          "name": "stdout",
          "text": [
            "Enter a string: Python\n",
            "First character: P\n",
            "Last character: n\n"
          ]
        }
      ]
    },
    {
      "cell_type": "code",
      "source": [
        "# Program to count how many times a letter appears in a string (short version)\n",
        "\n",
        "text = input(\"Enter a string: \")\n",
        "letter = input(\"Enter a letter to count: \")\n",
        "\n",
        "count = text.count(letter)\n",
        "\n",
        "print(f\"The letter '{letter}' appears {count} times in the string.\")"
      ],
      "metadata": {
        "colab": {
          "base_uri": "https://localhost:8080/"
        },
        "id": "WBjaaeFXjK1t",
        "outputId": "4a65d09f-eccc-4ab9-905e-d86be103fe16"
      },
      "execution_count": null,
      "outputs": [
        {
          "output_type": "stream",
          "name": "stdout",
          "text": [
            "Enter a string: Python\n",
            "Enter a letter to count: 4\n",
            "The letter '4' appears 0 times in the string.\n"
          ]
        }
      ]
    },
    {
      "cell_type": "code",
      "source": [
        "# Program to replace the word \"bad\" with \"good\" in a sentence\n",
        "\n",
        "sentence = \"This is a bad day.\"\n",
        "updated_sentence = sentence.replace(\"bad\", \"good\")\n",
        "\n",
        "print(\"Original sentence:\", sentence)\n",
        "print(\"Updated sentence:\", updated_sentence)"
      ],
      "metadata": {
        "colab": {
          "base_uri": "https://localhost:8080/"
        },
        "id": "OGT2pHTKj8DH",
        "outputId": "51da3d28-9c37-4dd6-b8ce-91486d41aee4"
      },
      "execution_count": null,
      "outputs": [
        {
          "output_type": "stream",
          "name": "stdout",
          "text": [
            "Original sentence: This is a bad day.\n",
            "Updated sentence: This is a good day.\n"
          ]
        }
      ]
    },
    {
      "cell_type": "code",
      "source": [
        "# Take a string as input from the user\n",
        "text = input(\"Enter a string: \")\n",
        "\n",
        "# Loop through each character and print it on a new line\n",
        "for char in text:\n",
        "    print(char)"
      ],
      "metadata": {
        "colab": {
          "base_uri": "https://localhost:8080/"
        },
        "id": "YJcwPQrqkKZQ",
        "outputId": "818944c2-a885-443c-b0fa-433debe06190"
      },
      "execution_count": null,
      "outputs": [
        {
          "output_type": "stream",
          "name": "stdout",
          "text": [
            "Enter a string: Hello\n",
            "H\n",
            "e\n",
            "l\n",
            "l\n",
            "o\n"
          ]
        }
      ]
    },
    {
      "cell_type": "code",
      "source": [
        "# Program to check if a string is a palindrome\n",
        "\n",
        "# Take input from user\n",
        "word = input(\"Enter a word: \")\n",
        "\n",
        "# Reverse the string\n",
        "reversed_word = word[::-1]\n",
        "\n",
        "# Check if it is palindrome\n",
        "if word == reversed_word:\n",
        "    print(word, \"is a palindrome\")\n",
        "else:\n",
        "    print(word, \"is not a palindrome\")"
      ],
      "metadata": {
        "colab": {
          "base_uri": "https://localhost:8080/"
        },
        "id": "wScuLCvkkaWh",
        "outputId": "9a99097d-33d8-4e7b-8de1-7b352c84776d"
      },
      "execution_count": null,
      "outputs": [
        {
          "output_type": "stream",
          "name": "stdout",
          "text": [
            "Enter a word: Madam\n",
            "Madam is not a palindrome\n"
          ]
        }
      ]
    },
    {
      "cell_type": "code",
      "source": [
        "# List of words\n",
        "words = [\"I\", \"love\", \"Python\"]\n",
        "\n",
        "# Join the words with spaces\n",
        "sentence = \" \".join(words)\n",
        "\n",
        "# Print the final string\n",
        "print(sentence)"
      ],
      "metadata": {
        "id": "yipIKt81k21L",
        "outputId": "a87ba7f1-8b5b-41d1-fbfd-36ee38ad3df5",
        "colab": {
          "base_uri": "https://localhost:8080/"
        }
      },
      "execution_count": null,
      "outputs": [
        {
          "output_type": "stream",
          "name": "stdout",
          "text": [
            "I love Python\n"
          ]
        }
      ]
    }
  ]
}