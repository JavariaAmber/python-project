{
  "nbformat": 4,
  "nbformat_minor": 0,
  "metadata": {
    "colab": {
      "provenance": [],
      "authorship_tag": "ABX9TyP88YMW07A/XNsxd/gxtb8L",
      "include_colab_link": true
    },
    "kernelspec": {
      "name": "python3",
      "display_name": "Python 3"
    },
    "language_info": {
      "name": "python"
    }
  },
  "cells": [
    {
      "cell_type": "markdown",
      "metadata": {
        "id": "view-in-github",
        "colab_type": "text"
      },
      "source": [
        "<a href=\"https://colab.research.google.com/github/JavariaAmber/python-project/blob/main/filehandlingassignment.ipynb\" target=\"_parent\"><img src=\"https://colab.research.google.com/assets/colab-badge.svg\" alt=\"Open In Colab\"/></a>"
      ]
    },
    {
      "cell_type": "code",
      "source": [
        "# Program: Write user details into a file\n",
        "\n",
        "# Step 1: Ask user for input\n",
        "name = input(\"Enter your name: \")\n",
        "age = input(\"Enter your age: \")\n",
        "\n",
        "# Step 2: Open the file in write mode\n",
        "with open(\"info.txt\", \"w\") as file:\n",
        "    # Step 3: Write formatted text into the file\n",
        "    file.write(f\"Name: {name}\\n\")\n",
        "    file.write(f\"Age: {age}\\n\")\n",
        "\n",
        "print(\"✅ Your information has been saved into info.txt\")"
      ],
      "metadata": {
        "colab": {
          "base_uri": "https://localhost:8080/"
        },
        "id": "YIqo4hb4tZ9X",
        "outputId": "c11e8564-b396-4607-a6ef-d9384b97f955"
      },
      "execution_count": null,
      "outputs": [
        {
          "output_type": "stream",
          "name": "stdout",
          "text": [
            "Enter your name: Javaria\n",
            "Enter your age: 34\n",
            "✅ Your information has been saved into info.txt\n"
          ]
        }
      ]
    },
    {
      "cell_type": "code",
      "source": [
        "# Open the file in read mode\n",
        "with open(\"info.txt\", \"r\") as file:\n",
        "    # Read the entire content\n",
        "    content = file.read()\n",
        "\n",
        "# Display the content on console\n",
        "print(\"Here is what’s inside info.txt:\")\n",
        "print(content)"
      ],
      "metadata": {
        "colab": {
          "base_uri": "https://localhost:8080/"
        },
        "id": "oN-63PmXvL-T",
        "outputId": "3a8a5cd7-701f-4e37-f262-001d5df4179e"
      },
      "execution_count": null,
      "outputs": [
        {
          "output_type": "stream",
          "name": "stdout",
          "text": [
            "Here is what’s inside info.txt:\n",
            "Name: Javaria\n",
            "Age: 34\n",
            "\n"
          ]
        }
      ]
    },
    {
      "cell_type": "code",
      "source": [
        "# Open the file in append mode so it doesn't overwrite the old content\n",
        "with open(\"info.txt\", \"a\") as f:\n",
        "    f.write(\"\\nThis file was updated successfully!\")\n",
        "\n",
        "print(\"New line has been added at the end of info.txt ✅\")"
      ],
      "metadata": {
        "colab": {
          "base_uri": "https://localhost:8080/"
        },
        "id": "wvo6k10Yvmcf",
        "outputId": "372bd2d7-afd6-45c6-ee44-016874194019"
      },
      "execution_count": null,
      "outputs": [
        {
          "output_type": "stream",
          "name": "stdout",
          "text": [
            "New line has been added at the end of info.txt ✅\n"
          ]
        }
      ]
    },
    {
      "cell_type": "code",
      "source": [
        "# Step 1: Write text into the file\n",
        "with open(\"data.txt\", \"w\") as f:\n",
        "    f.write(\"Welcome to Dart File Handling\")\n",
        "\n",
        "# Step 2: Read and print the file content\n",
        "with open(\"data.txt\", \"r\") as f:\n",
        "    content = f.read()\n",
        "    print(\"Initial File Content:\")\n",
        "    print(content)\n",
        "\n",
        "# Step 3: Append new text at the end\n",
        "with open(\"data.txt\", \"a\") as f:\n",
        "    f.write(\" - End of File\")\n",
        "\n",
        "# Step 4: Read again to show updated content\n",
        "with open(\"data.txt\", \"r\") as f:\n",
        "    updated_content = f.read()\n",
        "    print(\"\\nUpdated File Content:\")\n",
        "    print(updated_content)"
      ],
      "metadata": {
        "colab": {
          "base_uri": "https://localhost:8080/"
        },
        "id": "EdbhU5OqwFDr",
        "outputId": "3e550add-756e-426b-c5b6-ba57397021da"
      },
      "execution_count": null,
      "outputs": [
        {
          "output_type": "stream",
          "name": "stdout",
          "text": [
            "Initial File Content:\n",
            "Welcome to Dart File Handling\n",
            "\n",
            "Updated File Content:\n",
            "Welcome to Dart File Handling - End of File\n"
          ]
        }
      ]
    },
    {
      "cell_type": "code",
      "source": [
        "# Read content from info.txt\n",
        "with open(\"info.txt\", \"r\") as original_file:\n",
        "    content = original_file.read()\n",
        "\n",
        "# Write the same content into copy_info.txt\n",
        "with open(\"copy_info.txt\", \"w\") as copy_file:\n",
        "    copy_file.write(content)\n",
        "\n",
        "print(\"✅ Content copied successfully from info.txt to copy_info.txt\")"
      ],
      "metadata": {
        "colab": {
          "base_uri": "https://localhost:8080/"
        },
        "id": "C5FgRYPewIrh",
        "outputId": "ea33aedc-b98c-43df-8a67-576cbee71a4b"
      },
      "execution_count": null,
      "outputs": [
        {
          "output_type": "stream",
          "name": "stdout",
          "text": [
            "✅ Content copied successfully from info.txt to copy_info.txt\n"
          ]
        }
      ]
    },
    {
      "cell_type": "code",
      "source": [
        "# Open the file in read mode\n",
        "with open(\"data.txt\", \"r\") as file:\n",
        "    lines = file.readlines()   # read all lines into a list\n",
        "\n",
        "# Count lines\n",
        "line_count = len(lines)\n",
        "\n",
        "# Count words\n",
        "word_count = 0\n",
        "for line in lines:             # 'line' only exists inside this loop\n",
        "    words = line.split()       # split the line into words\n",
        "    word_count += len(words)\n",
        "\n",
        "# Show result\n",
        "print(f\"📄 The file has {line_count} lines and {word_count} words.\")"
      ],
      "metadata": {
        "colab": {
          "base_uri": "https://localhost:8080/"
        },
        "id": "JQNnEdiRwYo4",
        "outputId": "c50d4846-9baf-4a9b-c70d-0a9e915a46ab"
      },
      "execution_count": null,
      "outputs": [
        {
          "output_type": "stream",
          "name": "stdout",
          "text": [
            "📄 The file has 1 lines and 9 words.\n"
          ]
        }
      ]
    }
  ]
}